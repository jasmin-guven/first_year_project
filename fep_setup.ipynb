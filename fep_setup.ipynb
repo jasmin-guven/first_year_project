{
 "cells": [
  {
   "cell_type": "markdown",
   "id": "694477a7-5fdf-4174-a28e-edcd14ea315f",
   "metadata": {},
   "source": [
    "# FEP Setup for KPC-2"
   ]
  },
  {
   "cell_type": "code",
   "execution_count": 1,
   "id": "a22ead6f-2612-4196-bb36-d8bb58e2c5db",
   "metadata": {},
   "outputs": [
    {
     "name": "stderr",
     "output_type": "stream",
     "text": [
      "/home/jguven/Software/miniconda3/envs/bss-d/lib/python3.9/site-packages/numpy/core/getlimits.py:499: UserWarning: The value of the smallest subnormal for <class 'numpy.float64'> type is zero.\n",
      "  setattr(self, word, getattr(machar, word).flat[0])\n",
      "/home/jguven/Software/miniconda3/envs/bss-d/lib/python3.9/site-packages/numpy/core/getlimits.py:89: UserWarning: The value of the smallest subnormal for <class 'numpy.float64'> type is zero.\n",
      "  return self._float_to_str(self.smallest_subnormal)\n",
      "/home/jguven/Software/miniconda3/envs/bss-d/lib/python3.9/site-packages/numpy/core/getlimits.py:499: UserWarning: The value of the smallest subnormal for <class 'numpy.float32'> type is zero.\n",
      "  setattr(self, word, getattr(machar, word).flat[0])\n",
      "/home/jguven/Software/miniconda3/envs/bss-d/lib/python3.9/site-packages/numpy/core/getlimits.py:89: UserWarning: The value of the smallest subnormal for <class 'numpy.float32'> type is zero.\n",
      "  return self._float_to_str(self.smallest_subnormal)\n",
      "Warning: importing 'simtk.openmm' is deprecated.  Import 'openmm' instead.\n"
     ]
    }
   ],
   "source": [
    "import BioSimSpace as BSS"
   ]
  },
  {
   "cell_type": "code",
   "execution_count": 2,
   "id": "eb8d7876-571c-4162-b115-5b4066cb9501",
   "metadata": {},
   "outputs": [],
   "source": [
    "ligand_path = \"kpc-2_h/ligands/\"\n",
    "protein_path = \"kpc-2_h/protein/\""
   ]
  },
  {
   "cell_type": "code",
   "execution_count": 10,
   "id": "4e3cb8e2-af3f-4eda-85a0-c609bcca6537",
   "metadata": {},
   "outputs": [],
   "source": [
    "protein = BSS.IO.readMolecules(protein_path+\"kpc2.pdb\")[0]"
   ]
  },
  {
   "cell_type": "code",
   "execution_count": 11,
   "id": "93bff5bc-d184-4835-965a-d11063ce85ef",
   "metadata": {},
   "outputs": [
    {
     "ename": "ParameterisationError",
     "evalue": "Parameterisation failed! Last error: 'tLEaP failed!'",
     "output_type": "error",
     "traceback": [
      "\u001b[0;31m---------------------------------------------------------------------------\u001b[0m",
      "\u001b[0;31mParameterisationError\u001b[0m                     Traceback (most recent call last)",
      "Input \u001b[0;32mIn [11]\u001b[0m, in \u001b[0;36m<cell line: 1>\u001b[0;34m()\u001b[0m\n\u001b[0;32m----> 1\u001b[0m protein \u001b[38;5;241m=\u001b[39m \u001b[43mBSS\u001b[49m\u001b[38;5;241;43m.\u001b[39;49m\u001b[43mParameters\u001b[49m\u001b[38;5;241;43m.\u001b[39;49m\u001b[43mff14SB\u001b[49m\u001b[43m(\u001b[49m\u001b[43mprotein\u001b[49m\u001b[43m)\u001b[49m\u001b[38;5;241;43m.\u001b[39;49m\u001b[43mgetMolecule\u001b[49m\u001b[43m(\u001b[49m\u001b[43m)\u001b[49m\n",
      "File \u001b[0;32m~/Software/miniconda3/envs/bss-d/lib/python3.9/site-packages/BioSimSpace/Parameters/_process.py:227\u001b[0m, in \u001b[0;36mProcess.getMolecule\u001b[0;34m(self)\u001b[0m\n\u001b[1;32m    225\u001b[0m         \u001b[38;5;28;01mraise\u001b[39;00m _ParameterisationError(\u001b[38;5;124m\"\u001b[39m\u001b[38;5;124mParameterisation failed! Last error: \u001b[39m\u001b[38;5;124m'\u001b[39m\u001b[38;5;132;01m%s\u001b[39;00m\u001b[38;5;124m'\u001b[39m\u001b[38;5;124m\"\u001b[39m \u001b[38;5;241m%\u001b[39m \u001b[38;5;28mstr\u001b[39m(\u001b[38;5;28mself\u001b[39m\u001b[38;5;241m.\u001b[39m_last_error))\n\u001b[1;32m    226\u001b[0m     \u001b[38;5;28;01melse\u001b[39;00m:\n\u001b[0;32m--> 227\u001b[0m         \u001b[38;5;28;01mraise\u001b[39;00m _ParameterisationError(\u001b[38;5;124m\"\u001b[39m\u001b[38;5;124mParameterisation failed! Last error: \u001b[39m\u001b[38;5;124m'\u001b[39m\u001b[38;5;132;01m%s\u001b[39;00m\u001b[38;5;124m'\u001b[39m\u001b[38;5;124m\"\u001b[39m \u001b[38;5;241m%\u001b[39m \u001b[38;5;28mstr\u001b[39m(\u001b[38;5;28mself\u001b[39m\u001b[38;5;241m.\u001b[39m_last_error)) \u001b[38;5;28;01mfrom\u001b[39;00m \u001b[38;5;28mNone\u001b[39m\n\u001b[1;32m    229\u001b[0m \u001b[38;5;28;01mreturn\u001b[39;00m \u001b[38;5;28mself\u001b[39m\u001b[38;5;241m.\u001b[39m_new_molecule\n",
      "\u001b[0;31mParameterisationError\u001b[0m: Parameterisation failed! Last error: 'tLEaP failed!'"
     ]
    }
   ],
   "source": [
    "protein = BSS.Parameters.ff14SB(protein).getMolecule()"
   ]
  },
  {
   "cell_type": "code",
   "execution_count": 3,
   "id": "ae64e7f4-87cf-4f1b-af09-26df6a221f71",
   "metadata": {},
   "outputs": [
    {
     "name": "stdout",
     "output_type": "stream",
     "text": [
      "\n",
      "==============================================================\n",
      "Sending anonymous Sire usage statistics to http://siremol.org.\n",
      "For more information, see http://siremol.org/analytics\n",
      "To disable, set the environment variable 'SIRE_DONT_PHONEHOME' to 1\n",
      "To see the information sent, set the environment variable \n",
      "SIRE_VERBOSE_PHONEHOME equal to 1. To silence this message, set\n",
      "the environment variable SIRE_SILENT_PHONEHOME to 1.\n",
      "==============================================================\n",
      "\n"
     ]
    }
   ],
   "source": [
    "ligand_1 = BSS.IO.readMolecules(ligand_path+\"ligand_1/\"+\"lig_h_1.mol2\")[0]"
   ]
  },
  {
   "cell_type": "code",
   "execution_count": 4,
   "id": "2dabe3c5-55d8-4394-b382-04a12b404724",
   "metadata": {},
   "outputs": [],
   "source": [
    "ligand_1 = BSS.Parameters.gaff2(ligand_1).getMolecule()"
   ]
  },
  {
   "cell_type": "code",
   "execution_count": 5,
   "id": "a10648cb-acc9-4aaf-8e39-7e0561105edb",
   "metadata": {},
   "outputs": [],
   "source": [
    "ligand_2 = BSS.IO.readMolecules(ligand_path+\"ligand_2/\"+\"lig_h_2.mol2\")[0]"
   ]
  },
  {
   "cell_type": "code",
   "execution_count": 6,
   "id": "a7c049c0-b292-4b82-967e-f00253bae443",
   "metadata": {},
   "outputs": [],
   "source": [
    "ligand_2 = BSS.Parameters.gaff2(ligand_2).getMolecule()"
   ]
  },
  {
   "cell_type": "code",
   "execution_count": 7,
   "id": "6dd25241-d03b-484d-a889-1d27ec9c810d",
   "metadata": {},
   "outputs": [],
   "source": [
    "atom_mapping = BSS.Align.matchAtoms(ligand_1, ligand_2)"
   ]
  },
  {
   "cell_type": "code",
   "execution_count": 8,
   "id": "2fd2a80c-409f-49fd-b03c-c5012369c608",
   "metadata": {},
   "outputs": [],
   "source": [
    "ligand_1 = BSS.Align.rmsdAlign(ligand_1, ligand_2, atom_mapping)"
   ]
  },
  {
   "cell_type": "code",
   "execution_count": 9,
   "id": "760137cf-4ff1-4c6d-a64f-5f217fcfa7d5",
   "metadata": {},
   "outputs": [],
   "source": [
    "merged = BSS.Align.merge(ligand_1, ligand_2)"
   ]
  },
  {
   "cell_type": "code",
   "execution_count": null,
   "id": "496339ae-843f-40b2-aedd-b78cc85ef676",
   "metadata": {},
   "outputs": [],
   "source": []
  }
 ],
 "metadata": {
  "kernelspec": {
   "display_name": "Python 3 (ipykernel)",
   "language": "python",
   "name": "python3"
  },
  "language_info": {
   "codemirror_mode": {
    "name": "ipython",
    "version": 3
   },
   "file_extension": ".py",
   "mimetype": "text/x-python",
   "name": "python",
   "nbconvert_exporter": "python",
   "pygments_lexer": "ipython3",
   "version": "3.9.12"
  }
 },
 "nbformat": 4,
 "nbformat_minor": 5
}
