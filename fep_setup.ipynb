{
 "cells": [
  {
   "cell_type": "code",
   "execution_count": 2,
   "id": "cca32956-6896-4427-a289-1770f59cb366",
   "metadata": {},
   "outputs": [
    {
     "name": "stderr",
     "output_type": "stream",
     "text": [
      "/home/jguven/Software/miniconda3/envs/bss-d/lib/python3.9/site-packages/numpy/core/getlimits.py:499: UserWarning: The value of the smallest subnormal for <class 'numpy.float64'> type is zero.\n",
      "  setattr(self, word, getattr(machar, word).flat[0])\n",
      "/home/jguven/Software/miniconda3/envs/bss-d/lib/python3.9/site-packages/numpy/core/getlimits.py:89: UserWarning: The value of the smallest subnormal for <class 'numpy.float64'> type is zero.\n",
      "  return self._float_to_str(self.smallest_subnormal)\n",
      "/home/jguven/Software/miniconda3/envs/bss-d/lib/python3.9/site-packages/numpy/core/getlimits.py:499: UserWarning: The value of the smallest subnormal for <class 'numpy.float32'> type is zero.\n",
      "  setattr(self, word, getattr(machar, word).flat[0])\n",
      "/home/jguven/Software/miniconda3/envs/bss-d/lib/python3.9/site-packages/numpy/core/getlimits.py:89: UserWarning: The value of the smallest subnormal for <class 'numpy.float32'> type is zero.\n",
      "  return self._float_to_str(self.smallest_subnormal)\n",
      "Warning: importing 'simtk.openmm' is deprecated.  Import 'openmm' instead.\n"
     ]
    },
    {
     "name": "stdout",
     "output_type": "stream",
     "text": [
      "\n",
      "==============================================================\n",
      "Sending anonymous Sire usage statistics to http://siremol.org.\n",
      "For more information, see http://siremol.org/analytics\n",
      "To disable, set the environment variable 'SIRE_DONT_PHONEHOME' to 1\n",
      "To see the information sent, set the environment variable \n",
      "SIRE_VERBOSE_PHONEHOME equal to 1. To silence this message, set\n",
      "the environment variable SIRE_SILENT_PHONEHOME to 1.\n",
      "==============================================================\n",
      "\n"
     ]
    }
   ],
   "source": [
    "import BioSimSpace as BSS\n",
    "import glob\n",
    "import csv\n",
    "import numpy as np"
   ]
  },
  {
   "cell_type": "code",
   "execution_count": 4,
   "id": "3bd27cb0-33cb-4b79-a3e4-7251e02de567",
   "metadata": {},
   "outputs": [],
   "source": [
    "number_of_ligands = 16\n",
    "ligand_path = \"kpc2/ligands/\"\n",
    "protein_path = \"kpc2/protein/\""
   ]
  },
  {
   "cell_type": "markdown",
   "id": "8b08b13c-4bf9-49f6-813a-c7429e9c0b44",
   "metadata": {},
   "source": [
    "# Try LOMAP"
   ]
  },
  {
   "cell_type": "code",
   "execution_count": 5,
   "id": "a000f76a-8728-425e-9a01-a81d5398625b",
   "metadata": {},
   "outputs": [],
   "source": [
    "ligand_files = glob.glob(ligand_path+\"*.mol2\")"
   ]
  },
  {
   "cell_type": "code",
   "execution_count": 6,
   "id": "e87cfe52-9fec-43e1-abd0-7e934d196024",
   "metadata": {},
   "outputs": [
    {
     "data": {
      "text/plain": [
       "['kpc2/ligands/lig_h_8.mol2',\n",
       " 'kpc2/ligands/lig_h_4.mol2',\n",
       " 'kpc2/ligands/lig_h_13.mol2',\n",
       " 'kpc2/ligands/lig_h_16.mol2',\n",
       " 'kpc2/ligands/lig_h_9.mol2',\n",
       " 'kpc2/ligands/lig_h_6.mol2',\n",
       " 'kpc2/ligands/lig_h_15.mol2',\n",
       " 'kpc2/ligands/lig_h_10.mol2',\n",
       " 'kpc2/ligands/lig_h_7.mol2',\n",
       " 'kpc2/ligands/lig_h_12.mol2',\n",
       " 'kpc2/ligands/lig_h_3.mol2',\n",
       " 'kpc2/ligands/lig_h_1.mol2',\n",
       " 'kpc2/ligands/lig_h_5.mol2',\n",
       " 'kpc2/ligands/lig_h_2.mol2',\n",
       " 'kpc2/ligands/lig_h_14.mol2',\n",
       " 'kpc2/ligands/lig_h_11.mol2']"
      ]
     },
     "execution_count": 6,
     "metadata": {},
     "output_type": "execute_result"
    }
   ],
   "source": [
    "ligand_files"
   ]
  },
  {
   "cell_type": "code",
   "execution_count": 34,
   "id": "86c78452-d84e-418e-808a-36015359abe5",
   "metadata": {},
   "outputs": [
    {
     "data": {
      "text/plain": [
       "['lig_h_8',\n",
       " 'lig_h_4',\n",
       " 'lig_h_13',\n",
       " 'lig_h_16',\n",
       " 'lig_h_9',\n",
       " 'lig_h_6',\n",
       " 'lig_h_15',\n",
       " 'lig_h_10',\n",
       " 'lig_h_7',\n",
       " 'lig_h_12',\n",
       " 'lig_h_3',\n",
       " 'lig_h_1',\n",
       " 'lig_h_5',\n",
       " 'lig_h_2',\n",
       " 'lig_h_14',\n",
       " 'lig_h_11']"
      ]
     },
     "execution_count": 34,
     "metadata": {},
     "output_type": "execute_result"
    }
   ],
   "source": [
    "ligands = []\n",
    "ligand_names = []\n",
    "\n",
    "for file in ligand_files:\n",
    "    ligand = BSS.IO.readMolecules(file)[0]\n",
    "    # print(ligand)\n",
    "    ligands.append(ligand)\n",
    "    ligand_names.append(file.split(\"/\")[-1].replace(\".mol2\", \"\"))\n",
    "ligand_names\n",
    "# transformations, lomap_scores = BSS.Align.generateNetwork(ligands, plot_network=True, names=ligand_names)"
   ]
  },
  {
   "cell_type": "markdown",
   "id": "46cccfde-ce02-4077-b727-ead5371037bd",
   "metadata": {},
   "source": [
    "Doesn't work!!!"
   ]
  },
  {
   "cell_type": "markdown",
   "id": "2b2425c8-a39e-45cb-a984-c3958291d642",
   "metadata": {},
   "source": [
    "# `ligands.dat` file"
   ]
  },
  {
   "cell_type": "markdown",
   "id": "2b137b6e-38d0-4243-b7b6-056c6d8fc858",
   "metadata": {},
   "source": [
    "Create a folder `./execution_model/` and then:"
   ]
  },
  {
   "cell_type": "code",
   "execution_count": 13,
   "id": "c9418e0c-9eea-4fa8-8dd5-75e64313acb4",
   "metadata": {},
   "outputs": [],
   "source": [
    "with open(\"./execution_model/ligands.dat\", \"w\") as ligands_file:\n",
    "    writer = csv.writer(ligands_file)\n",
    "    for ligand in ligand_names:\n",
    "        writer.writerow([ligand])"
   ]
  },
  {
   "cell_type": "markdown",
   "id": "60198974-0a84-4a73-9aaa-569c1bb1ea44",
   "metadata": {
    "tags": []
   },
   "source": [
    "# `network.dat` file "
   ]
  },
  {
   "cell_type": "code",
   "execution_count": 23,
   "id": "e0016216-4675-4cd0-a092-885e32022abe",
   "metadata": {},
   "outputs": [],
   "source": [
    "np.set_printoptions(formatter={'float': '{: .4f}'.format})"
   ]
  },
  {
   "cell_type": "code",
   "execution_count": 24,
   "id": "3acfcee2-2e2a-45cb-85aa-f35d94cfe342",
   "metadata": {},
   "outputs": [],
   "source": [
    "engine = \"SOMD\""
   ]
  },
  {
   "cell_type": "code",
   "execution_count": 26,
   "id": "6dc2dc3a-a43e-416b-ae57-af2da298cb05",
   "metadata": {},
   "outputs": [],
   "source": [
    "lambda_array = np.around(np.linspace(0, 1, 11), decimals=5)\n",
    "n_windows = len(lambda_array)"
   ]
  },
  {
   "cell_type": "code",
   "execution_count": 37,
   "id": "0a6b2c98-480d-41c9-a870-35fd45d47eb6",
   "metadata": {},
   "outputs": [],
   "source": [
    "centre = \"\"\n",
    "perturbations = []\n",
    "for name in ligand_names:\n",
    "    if name == \"lig_h_1\":\n",
    "        centre = name\n",
    "    else:\n",
    "        perturbations.append(name)\n",
    "# print(centre)\n",
    "# print(\"---\")\n",
    "# print(perturbations)"
   ]
  },
  {
   "cell_type": "code",
   "execution_count": 39,
   "id": "7bf273fa-bf9a-4e78-bc00-da4328f3a675",
   "metadata": {},
   "outputs": [],
   "source": [
    "with open(\"./execution_model/network.dat\", \"w\") as network_file:\n",
    "    \n",
    "    writer = csv.writer(network_file, delimiter=\" \")\n",
    "\n",
    "    for perturbation in perturbations:\n",
    "\n",
    "        bash_lambda_array = str(lambda_array).replace(\"[ \", \"\").replace(\"]\", \"\").replace(\"  \", \",\").replace('\\n', '')\n",
    "        bash_lambda_array\n",
    "        # # write out both directions for this perturbation.\n",
    "        writer.writerow([centre, perturbation, n_windows, bash_lambda_array, engine])\n",
    "        \n",
    "        # Uncomment for reverse perturbation!\n",
    "        # writer.writerow([perturbation, centre, n_windows, bash_lambda_array, engine])      "
   ]
  },
  {
   "cell_type": "markdown",
   "id": "8b5d317b-881d-49df-864e-b4a45b8e26c5",
   "metadata": {},
   "source": [
    "# `protocol.dat` file"
   ]
  },
  {
   "cell_type": "code",
   "execution_count": 42,
   "id": "e6f1bafd-a931-4816-b208-9b8c1d7078f8",
   "metadata": {},
   "outputs": [],
   "source": [
    "protocol = [\n",
    "    f\"ligand forcefield = gaff2\",\n",
    "    f\"protein forcefield = ff14SB\",\n",
    "    f\"solvent = TIP3P\",\n",
    "    f\"box edges = 20*angstrom\",\n",
    "    f\"box type = orthorhombic\",\n",
    "    f\"protocol = default\",\n",
    "    f\"sampling = 2*ns\",\n",
    "    f\"engine = SOMD\"\n",
    "]\n",
    "\n",
    "with open(\"./execution_model/protocol.dat\", \"w\") as protocol_file:\n",
    "    writer = csv.writer(protocol_file)\n",
    "\n",
    "    for line in protocol:\n",
    "        writer.writerow([line])"
   ]
  },
  {
   "cell_type": "markdown",
   "id": "480ee1a9-4870-4273-9f49-50a9c859c617",
   "metadata": {},
   "source": [
    "# Protein parameterisation"
   ]
  },
  {
   "cell_type": "code",
   "execution_count": 45,
   "id": "a0ced858-c8d6-484f-a141-51eb21c8aea8",
   "metadata": {},
   "outputs": [
    {
     "data": {
      "text/plain": [
       "<BioSimSpace.Molecules: nMolecules=2>"
      ]
     },
     "execution_count": 45,
     "metadata": {},
     "output_type": "execute_result"
    }
   ],
   "source": [
    "protein_dry = BSS.IO.readPDB(protein_path+\"kpc2.amber.pdb\")[0]\n",
    "protein_dry = BSS.Parameters.parameterise(protein_dry, \"ff14SB\").getMolecule()\n",
    "crystal_water = BSS.IO.readMolecules(protein_path+\"hoh.pdb\")[0]\n",
    "protein = protein_dry + crystal_water"
   ]
  },
  {
   "cell_type": "markdown",
   "id": "62947601-9784-49c9-ab65-8f2ec8bcdca1",
   "metadata": {},
   "source": [
    "# Save molecules"
   ]
  },
  {
   "cell_type": "code",
   "execution_count": 47,
   "id": "10e57def-7597-4fcd-be21-8159073e7691",
   "metadata": {},
   "outputs": [
    {
     "data": {
      "text/plain": [
       "['/home/jguven/Projects/metalloproteins/execution_model/inputs/protein/protein.pdb']"
      ]
     },
     "execution_count": 47,
     "metadata": {},
     "output_type": "execute_result"
    }
   ],
   "source": [
    "BSS.IO.saveMolecules(\"execution_model/inputs/protein/protein\", protein, fileformat=\"pdb\")"
   ]
  },
  {
   "cell_type": "markdown",
   "id": "7c1f8a3f-3627-4a07-aa3c-94b57849f8cc",
   "metadata": {},
   "source": [
    "# Parameterise protein + water system on `tleap`\n",
    "\n",
    "See notion for details.\n",
    "\n",
    "Saved "
   ]
  },
  {
   "cell_type": "code",
   "execution_count": 10,
   "id": "5b325143-6679-4d8a-8f5c-bcf2b0abea07",
   "metadata": {},
   "outputs": [],
   "source": [
    "protein = BSS.IO.readMolecules([\"execution_model/inputs/protein/protein_complex.prm7\", \"execution_model/inputs/protein/protein_complex.rst7\"])[0]"
   ]
  },
  {
   "cell_type": "code",
   "execution_count": 12,
   "id": "d3e761b9-c250-49a9-97c5-f2a6cb8a6bc0",
   "metadata": {},
   "outputs": [],
   "source": [
    "# protein.isPerturbable()"
   ]
  },
  {
   "cell_type": "code",
   "execution_count": null,
   "id": "cf2f89ee-9daf-4455-91cc-eec373dbfac2",
   "metadata": {},
   "outputs": [],
   "source": []
  }
 ],
 "metadata": {
  "kernelspec": {
   "display_name": "Python 3 (ipykernel)",
   "language": "python",
   "name": "python3"
  },
  "language_info": {
   "codemirror_mode": {
    "name": "ipython",
    "version": 3
   },
   "file_extension": ".py",
   "mimetype": "text/x-python",
   "name": "python",
   "nbconvert_exporter": "python",
   "pygments_lexer": "ipython3",
   "version": "3.9.12"
  }
 },
 "nbformat": 4,
 "nbformat_minor": 5
}
