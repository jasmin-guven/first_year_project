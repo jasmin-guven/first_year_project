{
 "cells": [
  {
   "cell_type": "markdown",
   "id": "694477a7-5fdf-4174-a28e-edcd14ea315f",
   "metadata": {},
   "source": [
    "# FEP Setup for KPC-2"
   ]
  },
  {
   "cell_type": "code",
   "execution_count": 1,
   "id": "a22ead6f-2612-4196-bb36-d8bb58e2c5db",
   "metadata": {},
   "outputs": [
    {
     "name": "stderr",
     "output_type": "stream",
     "text": [
      "/home/jguven/Software/miniconda3/envs/bss-d/lib/python3.9/site-packages/numpy/core/getlimits.py:499: UserWarning: The value of the smallest subnormal for <class 'numpy.float64'> type is zero.\n",
      "  setattr(self, word, getattr(machar, word).flat[0])\n",
      "/home/jguven/Software/miniconda3/envs/bss-d/lib/python3.9/site-packages/numpy/core/getlimits.py:89: UserWarning: The value of the smallest subnormal for <class 'numpy.float64'> type is zero.\n",
      "  return self._float_to_str(self.smallest_subnormal)\n",
      "/home/jguven/Software/miniconda3/envs/bss-d/lib/python3.9/site-packages/numpy/core/getlimits.py:499: UserWarning: The value of the smallest subnormal for <class 'numpy.float32'> type is zero.\n",
      "  setattr(self, word, getattr(machar, word).flat[0])\n",
      "/home/jguven/Software/miniconda3/envs/bss-d/lib/python3.9/site-packages/numpy/core/getlimits.py:89: UserWarning: The value of the smallest subnormal for <class 'numpy.float32'> type is zero.\n",
      "  return self._float_to_str(self.smallest_subnormal)\n",
      "Warning: importing 'simtk.openmm' is deprecated.  Import 'openmm' instead.\n"
     ]
    },
    {
     "name": "stdout",
     "output_type": "stream",
     "text": [
      "\n",
      "==============================================================\n",
      "Sending anonymous Sire usage statistics to http://siremol.org.\n",
      "For more information, see http://siremol.org/analytics\n",
      "To disable, set the environment variable 'SIRE_DONT_PHONEHOME' to 1\n",
      "To see the information sent, set the environment variable \n",
      "SIRE_VERBOSE_PHONEHOME equal to 1. To silence this message, set\n",
      "the environment variable SIRE_SILENT_PHONEHOME to 1.\n",
      "==============================================================\n",
      "\n"
     ]
    }
   ],
   "source": [
    "import BioSimSpace as BSS"
   ]
  },
  {
   "cell_type": "code",
   "execution_count": 7,
   "id": "eb8d7876-571c-4162-b115-5b4066cb9501",
   "metadata": {},
   "outputs": [],
   "source": [
    "ligand_path = \"kpc-2_h/ligands/\"\n",
    "protein_path = \"kpc-2_h/protein/\""
   ]
  },
  {
   "cell_type": "code",
   "execution_count": 8,
   "id": "ae64e7f4-87cf-4f1b-af09-26df6a221f71",
   "metadata": {},
   "outputs": [],
   "source": [
    "ligand_1 = BSS.IO.readMolecules(ligand_path+\"ligand_1/\"+\"lig_h_1.mol2\")[0]"
   ]
  },
  {
   "cell_type": "code",
   "execution_count": 9,
   "id": "2dabe3c5-55d8-4394-b382-04a12b404724",
   "metadata": {},
   "outputs": [],
   "source": [
    "ligand_1 = BSS.Parameters.gaff2(ligand_1).getMolecule()"
   ]
  },
  {
   "cell_type": "code",
   "execution_count": null,
   "id": "a10648cb-acc9-4aaf-8e39-7e0561105edb",
   "metadata": {},
   "outputs": [],
   "source": []
  }
 ],
 "metadata": {
  "kernelspec": {
   "display_name": "Python 3 (ipykernel)",
   "language": "python",
   "name": "python3"
  },
  "language_info": {
   "codemirror_mode": {
    "name": "ipython",
    "version": 3
   },
   "file_extension": ".py",
   "mimetype": "text/x-python",
   "name": "python",
   "nbconvert_exporter": "python",
   "pygments_lexer": "ipython3",
   "version": "3.9.12"
  }
 },
 "nbformat": 4,
 "nbformat_minor": 5
}
