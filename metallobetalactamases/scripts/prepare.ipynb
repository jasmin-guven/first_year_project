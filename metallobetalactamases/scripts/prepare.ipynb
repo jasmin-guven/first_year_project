{
 "cells": [
  {
   "cell_type": "code",
   "execution_count": 3,
   "id": "578da84d-249b-4cb7-b025-fddb338fe329",
   "metadata": {},
   "outputs": [
    {
     "name": "stderr",
     "output_type": "stream",
     "text": [
      "/home/jguven/Software/miniconda3/envs/bss-d/lib/python3.9/site-packages/numpy/core/getlimits.py:499: UserWarning: The value of the smallest subnormal for <class 'numpy.float64'> type is zero.\n",
      "  setattr(self, word, getattr(machar, word).flat[0])\n",
      "/home/jguven/Software/miniconda3/envs/bss-d/lib/python3.9/site-packages/numpy/core/getlimits.py:89: UserWarning: The value of the smallest subnormal for <class 'numpy.float64'> type is zero.\n",
      "  return self._float_to_str(self.smallest_subnormal)\n",
      "/home/jguven/Software/miniconda3/envs/bss-d/lib/python3.9/site-packages/numpy/core/getlimits.py:499: UserWarning: The value of the smallest subnormal for <class 'numpy.float32'> type is zero.\n",
      "  setattr(self, word, getattr(machar, word).flat[0])\n",
      "/home/jguven/Software/miniconda3/envs/bss-d/lib/python3.9/site-packages/numpy/core/getlimits.py:89: UserWarning: The value of the smallest subnormal for <class 'numpy.float32'> type is zero.\n",
      "  return self._float_to_str(self.smallest_subnormal)\n"
     ]
    },
    {
     "name": "stdout",
     "output_type": "stream",
     "text": [
      "2022.2.1+47.g7ab37c02\n"
     ]
    },
    {
     "name": "stderr",
     "output_type": "stream",
     "text": [
      "Warning: importing 'simtk.openmm' is deprecated.  Import 'openmm' instead.\n"
     ]
    },
    {
     "name": "stdout",
     "output_type": "stream",
     "text": [
      "\n",
      "==============================================================\n",
      "Sending anonymous Sire usage statistics to http://siremol.org.\n",
      "For more information, see http://siremol.org/analytics\n",
      "To disable, set the environment variable 'SIRE_DONT_PHONEHOME' to 1\n",
      "To see the information sent, set the environment variable \n",
      "SIRE_VERBOSE_PHONEHOME equal to 1. To silence this message, set\n",
      "the environment variable SIRE_SILENT_PHONEHOME to 1.\n",
      "==============================================================\n",
      "\n"
     ]
    }
   ],
   "source": [
    "import BioSimSpace as bss\n",
    "import glob\n",
    "bss.setVerbose(True)\n",
    "print(bss.__version__)"
   ]
  },
  {
   "cell_type": "markdown",
   "id": "43f9abcd-f9fb-4dfb-a3a0-98037cc5ebc8",
   "metadata": {
    "jp-MarkdownHeadingCollapsed": true,
    "tags": []
   },
   "source": [
    "# LOMAP on ligands\n",
    "\n",
    "Lester is working on this. "
   ]
  },
  {
   "cell_type": "code",
   "execution_count": 18,
   "id": "9f8cdb3b-66be-4e93-89fb-0c62c584d35b",
   "metadata": {},
   "outputs": [
    {
     "name": "stdout",
     "output_type": "stream",
     "text": [
      "lig_15\n",
      "lig_4\n",
      "lig_12\n",
      "lig_13\n",
      "lig_2\n",
      "lig_10\n",
      "lig_9\n",
      "lig_6\n",
      "lig_7\n",
      "lig_14\n",
      "lig_8\n",
      "lig_1\n",
      "lig_11\n",
      "lig_3\n",
      "lig_5\n",
      "lig_16\n",
      "[(0, 1), (0, 2), (0, 3), (0, 4), (0, 5), (0, 6), (0, 7), (0, 8), (0, 9), (0, 10), (0, 11), (0, 12), (0, 13), (0, 14), (0, 15), (1, 2), (1, 3), (1, 4), (1, 5), (1, 6), (1, 7), (1, 8), (1, 9), (1, 10), (1, 11), (1, 12), (1, 13), (1, 14), (1, 15), (2, 3), (2, 4), (2, 5), (2, 6), (2, 7), (2, 8), (2, 9), (2, 10), (2, 11), (2, 12), (2, 13), (2, 14), (2, 15), (3, 4), (3, 5), (3, 6), (3, 7), (3, 8), (3, 9), (3, 10), (3, 11), (3, 12), (3, 13), (3, 14), (3, 15), (4, 5), (4, 6), (4, 7), (4, 8), (4, 9), (4, 10), (4, 11), (4, 12), (4, 13), (4, 14), (4, 15), (5, 6), (5, 7), (5, 8), (5, 9), (5, 10), (5, 11), (5, 12), (5, 13), (5, 14), (5, 15), (6, 7), (6, 8), (6, 9), (6, 10), (6, 11), (6, 12), (6, 13), (6, 14), (6, 15), (7, 8), (7, 9), (7, 10), (7, 11), (7, 12), (7, 13), (7, 14), (7, 15), (8, 9), (8, 10), (8, 11), (8, 12), (8, 13), (8, 14), (8, 15), (9, 10), (9, 11), (9, 12), (9, 13), (9, 14), (9, 15), (10, 11), (10, 12), (10, 13), (10, 14), (10, 15), (11, 12), (11, 13), (11, 14), (11, 15), (12, 13), (12, 14), (12, 15), (13, 14), (13, 15), (14, 15)] [1.2214, 1.2214, 1.2214, 1.2214, 1.2214, 1.2214, 1.2214, 1.2214, 1.2214, 1.2214, 1.2214, 1.2214, 1.2214, 1.2214, 1.2214, 1.2214, 1.2214, 1.2214, 1.2214, 1.2214, 1.2214, 1.2214, 1.2214, 1.2214, 1.2214, 1.2214, 1.2214, 1.2214, 1.2214, 1.2214, 1.2214, 1.2214, 1.2214, 1.2214, 1.2214, 1.2214, 1.2214, 1.2214, 1.2214, 1.2214, 1.2214, 1.2214, 1.2214, 1.2214, 1.2214, 1.2214, 1.2214, 1.2214, 1.2214, 1.2214, 1.2214, 1.2214, 1.2214, 1.2214, 1.2214, 1.2214, 1.2214, 1.2214, 1.2214, 1.2214, 1.2214, 1.2214, 1.2214, 1.2214, 1.2214, 1.2214, 1.2214, 1.2214, 1.2214, 1.2214, 1.2214, 1.2214, 1.2214, 1.2214, 1.2214, 1.2214, 1.2214, 1.2214, 1.2214, 1.2214, 1.2214, 1.2214, 1.2214, 1.2214, 1.2214, 1.2214, 1.2214, 1.2214, 1.2214, 1.2214, 1.2214, 1.2214, 1.2214, 1.2214, 1.2214, 1.2214, 1.2214, 1.2214, 1.2214, 1.2214, 1.2214, 1.2214, 1.2214, 1.2214, 1.2214, 1.2214, 1.2214, 1.2214, 1.2214, 1.2214, 1.2214, 1.2214, 1.2214, 1.2214, 1.2214, 1.2214, 1.2214, 1.2214, 1.2214, 1.2214]\n"
     ]
    }
   ],
   "source": [
    "import BioSimSpace as bss\n",
    "import glob\n",
    "ligand_path = \"../inputs/ligands/\"\n",
    "ligand_files = glob.glob(ligand_path+\"*.sdf\")\n",
    "\n",
    "ligands = []\n",
    "ligand_names = []\n",
    "for file in ligand_files:\n",
    "    ligand_name = file.split(\"/\")[-1].replace(\".sdf\", \"\")\n",
    "    ligand_names.append(ligand_name)\n",
    "    print(ligand_name)\n",
    "    ligand = bss.IO.readMolecules(file)[0]\n",
    "    ligands.append(ligand)\n",
    "    \n",
    "transformations, lomap_scores = bss.Align.generateNetwork(ligands, names=ligand_names)\n",
    "print(transformations, lomap_scores)"
   ]
  },
  {
   "cell_type": "code",
   "execution_count": 14,
   "id": "cfc813c2-d9bf-4a56-b58e-c17f6636867f",
   "metadata": {},
   "outputs": [
    {
     "name": "stdout",
     "output_type": "stream",
     "text": [
      "('lig_15', 'lig_4') 1.2214\n",
      "('lig_15', 'lig_12') 1.2214\n",
      "('lig_15', 'lig_13') 1.2214\n",
      "('lig_15', 'lig_2') 1.2214\n",
      "('lig_15', 'lig_10') 1.2214\n",
      "('lig_15', 'lig_9') 1.2214\n",
      "('lig_15', 'lig_6') 1.2214\n",
      "('lig_15', 'lig_7') 1.2214\n",
      "('lig_15', 'lig_14') 1.2214\n",
      "('lig_15', 'lig_8') 1.2214\n",
      "('lig_15', 'lig_1') 1.2214\n",
      "('lig_15', 'lig_11') 1.2214\n",
      "('lig_15', 'lig_3') 1.2214\n",
      "('lig_15', 'lig_5') 1.2214\n",
      "('lig_15', 'lig_16') 1.2214\n",
      "('lig_4', 'lig_12') 1.2214\n",
      "('lig_4', 'lig_13') 1.2214\n",
      "('lig_4', 'lig_2') 1.2214\n",
      "('lig_4', 'lig_10') 1.2214\n",
      "('lig_4', 'lig_9') 1.2214\n",
      "('lig_4', 'lig_6') 1.2214\n",
      "('lig_4', 'lig_7') 1.2214\n",
      "('lig_4', 'lig_14') 1.2214\n",
      "('lig_4', 'lig_8') 1.2214\n",
      "('lig_4', 'lig_1') 1.2214\n",
      "('lig_4', 'lig_11') 1.2214\n",
      "('lig_4', 'lig_3') 1.2214\n",
      "('lig_4', 'lig_5') 1.2214\n",
      "('lig_4', 'lig_16') 1.2214\n",
      "('lig_12', 'lig_13') 1.2214\n",
      "('lig_12', 'lig_2') 1.2214\n",
      "('lig_12', 'lig_10') 1.2214\n",
      "('lig_12', 'lig_9') 1.2214\n",
      "('lig_12', 'lig_6') 1.2214\n",
      "('lig_12', 'lig_7') 1.2214\n",
      "('lig_12', 'lig_14') 1.2214\n",
      "('lig_12', 'lig_8') 1.2214\n",
      "('lig_12', 'lig_1') 1.2214\n",
      "('lig_12', 'lig_11') 1.2214\n",
      "('lig_12', 'lig_3') 1.2214\n",
      "('lig_12', 'lig_5') 1.2214\n",
      "('lig_12', 'lig_16') 1.2214\n",
      "('lig_13', 'lig_2') 1.2214\n",
      "('lig_13', 'lig_10') 1.2214\n",
      "('lig_13', 'lig_9') 1.2214\n",
      "('lig_13', 'lig_6') 1.2214\n",
      "('lig_13', 'lig_7') 1.2214\n",
      "('lig_13', 'lig_14') 1.2214\n",
      "('lig_13', 'lig_8') 1.2214\n",
      "('lig_13', 'lig_1') 1.2214\n",
      "('lig_13', 'lig_11') 1.2214\n",
      "('lig_13', 'lig_3') 1.2214\n",
      "('lig_13', 'lig_5') 1.2214\n",
      "('lig_13', 'lig_16') 1.2214\n",
      "('lig_2', 'lig_10') 1.2214\n",
      "('lig_2', 'lig_9') 1.2214\n",
      "('lig_2', 'lig_6') 1.2214\n",
      "('lig_2', 'lig_7') 1.2214\n",
      "('lig_2', 'lig_14') 1.2214\n",
      "('lig_2', 'lig_8') 1.2214\n",
      "('lig_2', 'lig_1') 1.2214\n",
      "('lig_2', 'lig_11') 1.2214\n",
      "('lig_2', 'lig_3') 1.2214\n",
      "('lig_2', 'lig_5') 1.2214\n",
      "('lig_2', 'lig_16') 1.2214\n",
      "('lig_10', 'lig_9') 1.2214\n",
      "('lig_10', 'lig_6') 1.2214\n",
      "('lig_10', 'lig_7') 1.2214\n",
      "('lig_10', 'lig_14') 1.2214\n",
      "('lig_10', 'lig_8') 1.2214\n",
      "('lig_10', 'lig_1') 1.2214\n",
      "('lig_10', 'lig_11') 1.2214\n",
      "('lig_10', 'lig_3') 1.2214\n",
      "('lig_10', 'lig_5') 1.2214\n",
      "('lig_10', 'lig_16') 1.2214\n",
      "('lig_9', 'lig_6') 1.2214\n",
      "('lig_9', 'lig_7') 1.2214\n",
      "('lig_9', 'lig_14') 1.2214\n",
      "('lig_9', 'lig_8') 1.2214\n",
      "('lig_9', 'lig_1') 1.2214\n",
      "('lig_9', 'lig_11') 1.2214\n",
      "('lig_9', 'lig_3') 1.2214\n",
      "('lig_9', 'lig_5') 1.2214\n",
      "('lig_9', 'lig_16') 1.2214\n",
      "('lig_6', 'lig_7') 1.2214\n",
      "('lig_6', 'lig_14') 1.2214\n",
      "('lig_6', 'lig_8') 1.2214\n",
      "('lig_6', 'lig_1') 1.2214\n",
      "('lig_6', 'lig_11') 1.2214\n",
      "('lig_6', 'lig_3') 1.2214\n",
      "('lig_6', 'lig_5') 1.2214\n",
      "('lig_6', 'lig_16') 1.2214\n",
      "('lig_7', 'lig_14') 1.2214\n",
      "('lig_7', 'lig_8') 1.2214\n",
      "('lig_7', 'lig_1') 1.2214\n",
      "('lig_7', 'lig_11') 1.2214\n",
      "('lig_7', 'lig_3') 1.2214\n",
      "('lig_7', 'lig_5') 1.2214\n",
      "('lig_7', 'lig_16') 1.2214\n",
      "('lig_14', 'lig_8') 1.2214\n",
      "('lig_14', 'lig_1') 1.2214\n",
      "('lig_14', 'lig_11') 1.2214\n",
      "('lig_14', 'lig_3') 1.2214\n",
      "('lig_14', 'lig_5') 1.2214\n",
      "('lig_14', 'lig_16') 1.2214\n",
      "('lig_8', 'lig_1') 1.2214\n",
      "('lig_8', 'lig_11') 1.2214\n",
      "('lig_8', 'lig_3') 1.2214\n",
      "('lig_8', 'lig_5') 1.2214\n",
      "('lig_8', 'lig_16') 1.2214\n",
      "('lig_1', 'lig_11') 1.2214\n",
      "('lig_1', 'lig_3') 1.2214\n",
      "('lig_1', 'lig_5') 1.2214\n",
      "('lig_1', 'lig_16') 1.2214\n",
      "('lig_11', 'lig_3') 1.2214\n",
      "('lig_11', 'lig_5') 1.2214\n",
      "('lig_11', 'lig_16') 1.2214\n",
      "('lig_3', 'lig_5') 1.2214\n",
      "('lig_3', 'lig_16') 1.2214\n",
      "('lig_5', 'lig_16') 1.2214\n"
     ]
    }
   ],
   "source": [
    "perturbation_network_dict = {}\n",
    "transformations_named = [(ligand_names[transformation[0]], ligand_names[transformation[1]]) for transformation in transformations]\n",
    "for transformation, score in zip(transformations_named, lomap_scores):\n",
    "    print(transformation, score)\n",
    "    perturbation_network_dict[transformation] = score"
   ]
  },
  {
   "cell_type": "markdown",
   "id": "213e95e7-3c0a-4a49-9c05-f05eded6a176",
   "metadata": {},
   "source": [
    "# VIM-2 Prep\n"
   ]
  },
  {
   "cell_type": "code",
   "execution_count": 13,
   "id": "f6092238-be17-4808-aa07-8ce7457d549d",
   "metadata": {},
   "outputs": [],
   "source": [
    "protein_pdb = \"../inputs/protein/vim2_chain.pdb\""
   ]
  },
  {
   "cell_type": "code",
   "execution_count": 14,
   "id": "1766687f-98fc-42ec-af88-157d9d22dc04",
   "metadata": {},
   "outputs": [],
   "source": [
    "protein = bss.IO.readMolecules(protein_pdb)[0]"
   ]
  },
  {
   "cell_type": "code",
   "execution_count": 15,
   "id": "3ffb8a2a-ebfe-48c3-b119-668f2c61f2cc",
   "metadata": {},
   "outputs": [],
   "source": [
    "view = bss.Notebook.View(protein)\n",
    "view.system()"
   ]
  },
  {
   "cell_type": "code",
   "execution_count": 17,
   "id": "72c4ff04-dfaa-4848-b9bd-eee83fd117f5",
   "metadata": {},
   "outputs": [],
   "source": [
    "zincs_pdb = \"../inputs/protein/vim2_zn.pdb\"\n",
    "zincs = bss.IO.readMolecules(zincs_pdb)[0]"
   ]
  },
  {
   "cell_type": "code",
   "execution_count": 19,
   "id": "ce384e34-b62b-4dee-9c90-ef8e86cd49fe",
   "metadata": {},
   "outputs": [],
   "source": [
    "view = bss.Notebook.View(zincs)\n",
    "# view.system()"
   ]
  },
  {
   "cell_type": "code",
   "execution_count": null,
   "id": "7214026d-e9c1-4d1d-a017-40b8eda6fcc4",
   "metadata": {},
   "outputs": [],
   "source": []
  }
 ],
 "metadata": {
  "kernelspec": {
   "display_name": "Python 3 (ipykernel)",
   "language": "python",
   "name": "python3"
  },
  "language_info": {
   "codemirror_mode": {
    "name": "ipython",
    "version": 3
   },
   "file_extension": ".py",
   "mimetype": "text/x-python",
   "name": "python",
   "nbconvert_exporter": "python",
   "pygments_lexer": "ipython3",
   "version": "3.9.13"
  }
 },
 "nbformat": 4,
 "nbformat_minor": 5
}
