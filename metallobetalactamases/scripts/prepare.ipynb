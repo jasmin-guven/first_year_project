{
 "cells": [
  {
   "cell_type": "code",
   "execution_count": 7,
   "id": "578da84d-249b-4cb7-b025-fddb338fe329",
   "metadata": {},
   "outputs": [],
   "source": [
    "import BioSimSpace as bss\n",
    "import glob"
   ]
  },
  {
   "cell_type": "code",
   "execution_count": 9,
   "id": "9f8cdb3b-66be-4e93-89fb-0c62c584d35b",
   "metadata": {},
   "outputs": [
    {
     "name": "stdout",
     "output_type": "stream",
     "text": [
      "lig_h_8\n",
      "lig_h_4\n",
      "lig_h_13\n",
      "lig_h_16\n",
      "lig_h_9\n",
      "lig_h_6\n",
      "lig_h_15\n",
      "lig_h_10\n",
      "lig_h_7\n",
      "lig_h_12\n",
      "lig_h_3\n",
      "lig_h_1\n",
      "lig_h_5\n",
      "lig_h_2\n",
      "lig_h_14\n",
      "lig_h_11\n",
      "------------------------------\n"
     ]
    },
    {
     "ename": "AlignmentError",
     "evalue": "Unable to compute MCS of molecules!",
     "output_type": "error",
     "traceback": [
      "\u001b[0;31m---------------------------------------------------------------------------\u001b[0m",
      "\u001b[0;31mAlignmentError\u001b[0m                            Traceback (most recent call last)",
      "Input \u001b[0;32mIn [9]\u001b[0m, in \u001b[0;36m<cell line: 14>\u001b[0;34m()\u001b[0m\n\u001b[1;32m     11\u001b[0m     ligand \u001b[38;5;241m=\u001b[39m bss\u001b[38;5;241m.\u001b[39mIO\u001b[38;5;241m.\u001b[39mreadMolecules(file)[\u001b[38;5;241m0\u001b[39m]\n\u001b[1;32m     12\u001b[0m     ligands\u001b[38;5;241m.\u001b[39mappend(ligand)\n\u001b[0;32m---> 14\u001b[0m transformations, lomap_scores \u001b[38;5;241m=\u001b[39m \u001b[43mbss\u001b[49m\u001b[38;5;241;43m.\u001b[39;49m\u001b[43mAlign\u001b[49m\u001b[38;5;241;43m.\u001b[39;49m\u001b[43mgenerateNetwork\u001b[49m\u001b[43m(\u001b[49m\u001b[43mligands\u001b[49m\u001b[43m,\u001b[49m\u001b[43m \u001b[49m\u001b[43mplot_network\u001b[49m\u001b[38;5;241;43m=\u001b[39;49m\u001b[38;5;28;43;01mTrue\u001b[39;49;00m\u001b[43m,\u001b[49m\u001b[43m \u001b[49m\u001b[43mnames\u001b[49m\u001b[38;5;241;43m=\u001b[39;49m\u001b[43mligand_names\u001b[49m\u001b[43m)\u001b[49m\n",
      "File \u001b[0;32m~/Software/miniconda3/envs/bss-d/lib/python3.9/site-packages/BioSimSpace/Align/_align.py:528\u001b[0m, in \u001b[0;36mgenerateNetwork\u001b[0;34m(molecules, names, work_dir, plot_network, links_file, property_map, n_edges_forced)\u001b[0m\n\u001b[1;32m    526\u001b[0m         \u001b[38;5;28;01mraise\u001b[39;00m _AlignmentError(msg) \u001b[38;5;28;01mfrom\u001b[39;00m \u001b[38;5;21;01me\u001b[39;00m\n\u001b[1;32m    527\u001b[0m     \u001b[38;5;28;01melse\u001b[39;00m:\n\u001b[0;32m--> 528\u001b[0m         \u001b[38;5;28;01mraise\u001b[39;00m _AlignmentError(msg) \u001b[38;5;28;01mfrom\u001b[39;00m \u001b[38;5;28mNone\u001b[39m\n\u001b[1;32m    530\u001b[0m \u001b[38;5;66;03m# 3) Load all ligands, make 2D depiction aligned to the template and save to file.\u001b[39;00m\n\u001b[1;32m    531\u001b[0m \u001b[38;5;28;01mtry\u001b[39;00m:\n",
      "\u001b[0;31mAlignmentError\u001b[0m: Unable to compute MCS of molecules!"
     ]
    }
   ],
   "source": [
    "import BioSimSpace as bss\n",
    "import glob\n",
    "ligand_path = \"../inputs/ligands/\"\n",
    "ligand_files = glob.glob(ligand_path+\"*.mol2\")\n",
    "\n",
    "ligands = []\n",
    "ligand_names = []\n",
    "for file in ligand_files:\n",
    "    ligand_name = file.split(\"/\")[-1].replace(\".mol2\", \"\")\n",
    "    ligand_names.append(ligand_name)\n",
    "    print(ligand_name)\n",
    "    ligand = bss.IO.readMolecules(file)[0]\n",
    "    ligands.append(ligand)\n",
    "    \n",
    "transformations, lomap_scores = bss.Align.generateNetwork(ligands, plot_network=True, names=ligand_names)"
   ]
  },
  {
   "cell_type": "code",
   "execution_count": 6,
   "id": "cfc813c2-d9bf-4a56-b58e-c17f6636867f",
   "metadata": {},
   "outputs": [],
   "source": []
  },
  {
   "cell_type": "code",
   "execution_count": null,
   "id": "b9d68210-d210-4a98-ade6-55cca0f30478",
   "metadata": {},
   "outputs": [],
   "source": []
  }
 ],
 "metadata": {
  "kernelspec": {
   "display_name": "Python 3 (ipykernel)",
   "language": "python",
   "name": "python3"
  },
  "language_info": {
   "codemirror_mode": {
    "name": "ipython",
    "version": 3
   },
   "file_extension": ".py",
   "mimetype": "text/x-python",
   "name": "python",
   "nbconvert_exporter": "python",
   "pygments_lexer": "ipython3",
   "version": "3.9.13"
  }
 },
 "nbformat": 4,
 "nbformat_minor": 5
}
