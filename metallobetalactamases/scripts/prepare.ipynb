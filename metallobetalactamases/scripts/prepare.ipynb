{
 "cells": [
  {
   "cell_type": "code",
   "execution_count": 1,
   "id": "578da84d-249b-4cb7-b025-fddb338fe329",
   "metadata": {},
   "outputs": [
    {
     "name": "stderr",
     "output_type": "stream",
     "text": [
      "/home/jguven/Software/miniconda3/envs/bss-d/lib/python3.9/site-packages/numpy/core/getlimits.py:499: UserWarning: The value of the smallest subnormal for <class 'numpy.float64'> type is zero.\n",
      "  setattr(self, word, getattr(machar, word).flat[0])\n",
      "/home/jguven/Software/miniconda3/envs/bss-d/lib/python3.9/site-packages/numpy/core/getlimits.py:89: UserWarning: The value of the smallest subnormal for <class 'numpy.float64'> type is zero.\n",
      "  return self._float_to_str(self.smallest_subnormal)\n",
      "/home/jguven/Software/miniconda3/envs/bss-d/lib/python3.9/site-packages/numpy/core/getlimits.py:499: UserWarning: The value of the smallest subnormal for <class 'numpy.float32'> type is zero.\n",
      "  setattr(self, word, getattr(machar, word).flat[0])\n",
      "/home/jguven/Software/miniconda3/envs/bss-d/lib/python3.9/site-packages/numpy/core/getlimits.py:89: UserWarning: The value of the smallest subnormal for <class 'numpy.float32'> type is zero.\n",
      "  return self._float_to_str(self.smallest_subnormal)\n"
     ]
    },
    {
     "name": "stdout",
     "output_type": "stream",
     "text": [
      "2022.2.1+47.g7ab37c02\n"
     ]
    },
    {
     "name": "stderr",
     "output_type": "stream",
     "text": [
      "Warning: importing 'simtk.openmm' is deprecated.  Import 'openmm' instead.\n"
     ]
    },
    {
     "name": "stdout",
     "output_type": "stream",
     "text": [
      "\n",
      "==============================================================\n",
      "Sending anonymous Sire usage statistics to http://siremol.org.\n",
      "For more information, see http://siremol.org/analytics\n",
      "To disable, set the environment variable 'SIRE_DONT_PHONEHOME' to 1\n",
      "To see the information sent, set the environment variable \n",
      "SIRE_VERBOSE_PHONEHOME equal to 1. To silence this message, set\n",
      "the environment variable SIRE_SILENT_PHONEHOME to 1.\n",
      "==============================================================\n",
      "\n"
     ]
    },
    {
     "name": "stderr",
     "output_type": "stream",
     "text": [
      "Traceback (most recent call last):\n",
      "  File \"/home/jguven/Software/miniconda3/envs/bss-d/lib/python3.9/site-packages/networkx/drawing/nx_agraph.py\", line 133, in to_agraph\n",
      "    import pygraphviz\n",
      "ModuleNotFoundError: No module named 'pygraphviz'\n",
      "\n",
      "The above exception was the direct cause of the following exception:\n",
      "\n",
      "Traceback (most recent call last):\n",
      "  File \"/home/jguven/Software/miniconda3/envs/bss-d/lib/python3.9/site-packages/lomap/graphgen.py\", line 976, in write_graph\n",
      "    self.generate_depictions()\n",
      "  File \"/home/jguven/Software/miniconda3/envs/bss-d/lib/python3.9/site-packages/lomap/graphgen.py\", line 880, in generate_depictions\n",
      "    nx.nx_agraph.write_dot(temp_graph, self.dbase.options['name'] + '_tmp.dot')\n",
      "  File \"/home/jguven/Software/miniconda3/envs/bss-d/lib/python3.9/site-packages/networkx/drawing/nx_agraph.py\", line 188, in write_dot\n",
      "    A = to_agraph(G)\n",
      "  File \"/home/jguven/Software/miniconda3/envs/bss-d/lib/python3.9/site-packages/networkx/drawing/nx_agraph.py\", line 135, in to_agraph\n",
      "    raise ImportError(\n",
      "ImportError: requires pygraphviz http://pygraphviz.github.io/\n"
     ]
    }
   ],
   "source": [
    "import BioSimSpace as bss\n",
    "import glob\n",
    "bss.setVerbose(True)\n",
    "print(bss.__version__)\n",
    "import lomap"
   ]
  },
  {
   "cell_type": "markdown",
   "id": "43f9abcd-f9fb-4dfb-a3a0-98037cc5ebc8",
   "metadata": {
    "tags": []
   },
   "source": [
    "# LOMAP on ligands\n",
    "\n",
    "Lester is working on this. "
   ]
  },
  {
   "cell_type": "code",
   "execution_count": 2,
   "id": "9f8cdb3b-66be-4e93-89fb-0c62c584d35b",
   "metadata": {},
   "outputs": [
    {
     "name": "stdout",
     "output_type": "stream",
     "text": [
      "lig_15\n",
      "lig_4\n",
      "lig_12\n",
      "lig_13\n",
      "lig_2\n",
      "lig_10\n",
      "lig_9\n",
      "lig_6\n",
      "lig_7\n",
      "lig_14\n",
      "lig_8\n",
      "lig_1\n",
      "lig_11\n",
      "lig_3\n",
      "lig_5\n",
      "lig_16\n"
     ]
    }
   ],
   "source": [
    "import BioSimSpace as bss\n",
    "import glob\n",
    "ligand_path = \"../inputs/ligands/\"\n",
    "ligand_files = glob.glob(ligand_path+\"*.sdf\")\n",
    "\n",
    "ligands = []\n",
    "ligand_names = []\n",
    "for file in ligand_files:\n",
    "    ligand_name = file.split(\"/\")[-1].replace(\".sdf\", \"\")\n",
    "    ligand_names.append(ligand_name)\n",
    "    print(ligand_name)\n",
    "    ligand = bss.IO.readMolecules(file)[0]\n",
    "    ligands.append(ligand)"
   ]
  },
  {
   "cell_type": "code",
   "execution_count": 6,
   "id": "8c7238e1-9930-49b7-8cbc-4b6b51dbfe2d",
   "metadata": {},
   "outputs": [
    {
     "name": "stdout",
     "output_type": "stream",
     "text": [
      "------------------------------\n"
     ]
    }
   ],
   "source": [
    "lomap_database = lomap.DBMolecules(f\"{ligand_path}/\", output=True)"
   ]
  },
  {
   "cell_type": "code",
   "execution_count": 8,
   "id": "1bf0beb5-b5c9-4109-b5bb-977fe474e968",
   "metadata": {},
   "outputs": [],
   "source": [
    "strict, loose = lomap_database.build_matrices()"
   ]
  },
  {
   "cell_type": "code",
   "execution_count": 10,
   "id": "12a14b16-2700-4ba9-8705-6f8973cff8c4",
   "metadata": {},
   "outputs": [],
   "source": [
    "strict_numpy = strict.to_numpy_2D_array()\n",
    "loose_numpy = loose.to_numpy_2D_array()\n"
   ]
  },
  {
   "cell_type": "code",
   "execution_count": 14,
   "id": "a5155e35-be28-432c-95dc-b743fbdaa446",
   "metadata": {},
   "outputs": [],
   "source": [
    "nx_graph = lomap_database.build_graph()"
   ]
  },
  {
   "cell_type": "code",
   "execution_count": 18,
   "id": "8b0e056e-9c85-40c7-8300-5978b9fdf21c",
   "metadata": {},
   "outputs": [
    {
     "name": "stdout",
     "output_type": "stream",
     "text": [
      "(0, 10, {'similarity': 0.9048374180359595, 'strict_flag': True})\n",
      "(0, 11, {'similarity': 0.9048374180359595, 'strict_flag': True})\n",
      "(1, 14, {'similarity': 0.951229424500714, 'strict_flag': True})\n",
      "(1, 15, {'similarity': 0.951229424500714, 'strict_flag': True})\n",
      "(2, 9, {'similarity': 0.7046880897187134, 'strict_flag': True})\n",
      "(2, 5, {'similarity': 0.8187307530779817, 'strict_flag': True})\n",
      "(2, 10, {'similarity': 0.8607079764250578, 'strict_flag': True})\n",
      "(2, 11, {'similarity': 0.8607079764250578, 'strict_flag': True})\n",
      "(2, 3, {'similarity': 0.9048374180359595, 'strict_flag': True})\n",
      "(3, 6, {'similarity': 0.8187307530779818, 'strict_flag': True})\n",
      "(4, 7, {'similarity': 0.9048374180359595, 'strict_flag': True})\n",
      "(4, 12, {'similarity': 0.951229424500714, 'strict_flag': True})\n",
      "(5, 6, {'similarity': 0.9048374180359595, 'strict_flag': True})\n",
      "(6, 9, {'similarity': 0.6376281516217733, 'strict_flag': True})\n",
      "(7, 15, {'similarity': 0.9048374180359595, 'strict_flag': True})\n",
      "(8, 15, {'similarity': 0.7788007830714049, 'strict_flag': True})\n",
      "(8, 10, {'similarity': 0.8607079764250578, 'strict_flag': True})\n",
      "(10, 15, {'similarity': 0.9048374180359595, 'strict_flag': True})\n",
      "(12, 13, {'similarity': 0.8607079764250578, 'strict_flag': True})\n",
      "(13, 15, {'similarity': 0.8607079764250578, 'strict_flag': True})\n",
      "(14, 15, {'similarity': 0.9048374180359595, 'strict_flag': True})\n"
     ]
    }
   ],
   "source": [
    "len(nx_graph.edges(data=True))\n",
    "for i in nx_graph.edges(data=True):\n",
    "    print(i)"
   ]
  },
  {
   "cell_type": "code",
   "execution_count": 19,
   "id": "4509c777-18fd-4466-ab6b-cb9db0860ddf",
   "metadata": {},
   "outputs": [
    {
     "ename": "AttributeError",
     "evalue": "'Image' object has no attribute 'save'",
     "output_type": "error",
     "traceback": [
      "\u001b[0;31m---------------------------------------------------------------------------\u001b[0m",
      "\u001b[0;31mAttributeError\u001b[0m                            Traceback (most recent call last)",
      "Input \u001b[0;32mIn [19]\u001b[0m, in \u001b[0;36m<cell line: 1>\u001b[0;34m()\u001b[0m\n\u001b[0;32m----> 1\u001b[0m MC \u001b[38;5;241m=\u001b[39m \u001b[43mlomap\u001b[49m\u001b[38;5;241;43m.\u001b[39;49m\u001b[43mMCS\u001b[49m\u001b[38;5;241;43m.\u001b[39;49m\u001b[43mgetMapping\u001b[49m\u001b[43m(\u001b[49m\u001b[43mlomap_database\u001b[49m\u001b[43m[\u001b[49m\u001b[38;5;241;43m0\u001b[39;49m\u001b[43m]\u001b[49m\u001b[38;5;241;43m.\u001b[39;49m\u001b[43mgetMolecule\u001b[49m\u001b[43m(\u001b[49m\u001b[43m)\u001b[49m\u001b[43m,\u001b[49m\u001b[43m \u001b[49m\u001b[43mlomap_database\u001b[49m\u001b[43m[\u001b[49m\u001b[38;5;241;43m1\u001b[39;49m\u001b[43m]\u001b[49m\u001b[38;5;241;43m.\u001b[39;49m\u001b[43mgetMolecule\u001b[49m\u001b[43m(\u001b[49m\u001b[43m)\u001b[49m\u001b[43m,\u001b[49m\u001b[43m \u001b[49m\u001b[43mhydrogens\u001b[49m\u001b[38;5;241;43m=\u001b[39;49m\u001b[38;5;28;43;01mFalse\u001b[39;49;00m\u001b[43m,\u001b[49m\u001b[43m \u001b[49m\u001b[43mfname\u001b[49m\u001b[38;5;241;43m=\u001b[39;49m\u001b[38;5;124;43m'\u001b[39;49m\u001b[38;5;124;43mmcs.png\u001b[39;49m\u001b[38;5;124;43m'\u001b[39;49m\u001b[43m)\u001b[49m\n",
      "File \u001b[0;32m~/Software/miniconda3/envs/bss-d/lib/python3.9/site-packages/lomap/mcs.py:816\u001b[0m, in \u001b[0;36mMCS.getMapping\u001b[0;34m(moli, molj, hydrogens, fname, time_out)\u001b[0m\n\u001b[1;32m    809\u001b[0m     mcs_fname  \u001b[38;5;241m=\u001b[39m \u001b[38;5;124m'\u001b[39m\u001b[38;5;124mMcs\u001b[39m\u001b[38;5;124m'\u001b[39m\n\u001b[1;32m    811\u001b[0m     img \u001b[38;5;241m=\u001b[39m Draw\u001b[38;5;241m.\u001b[39mMolsToGridImage([moli_c, molj_c, mcs_mol],\n\u001b[1;32m    812\u001b[0m                                molsPerRow\u001b[38;5;241m=\u001b[39m\u001b[38;5;241m3\u001b[39m, subImgSize\u001b[38;5;241m=\u001b[39m(\u001b[38;5;241m400\u001b[39m,\u001b[38;5;241m400\u001b[39m),\n\u001b[1;32m    813\u001b[0m                                legends\u001b[38;5;241m=\u001b[39m[moli_fname, molj_fname,mcs_fname],\n\u001b[1;32m    814\u001b[0m                                highlightAtomLists\u001b[38;5;241m=\u001b[39m[moli_sub, molj_sub, mcs_sub])\n\u001b[0;32m--> 816\u001b[0m     \u001b[43mimg\u001b[49m\u001b[38;5;241;43m.\u001b[39;49m\u001b[43msave\u001b[49m(fname)\n\u001b[1;32m    818\u001b[0m     DrawingOptions\u001b[38;5;241m.\u001b[39mincludeAtomNumbers\u001b[38;5;241m=\u001b[39m\u001b[38;5;28;01mFalse\u001b[39;00m\n\u001b[1;32m    820\u001b[0m \u001b[38;5;28;01mreturn\u001b[39;00m map_moli_to_molj\n",
      "\u001b[0;31mAttributeError\u001b[0m: 'Image' object has no attribute 'save'"
     ]
    }
   ],
   "source": [
    "MC = lomap.MCS.getMapping(lomap_database[0].getMolecule(), lomap_database[1].getMolecule(), hydrogens=False, fname='mcs.png')"
   ]
  },
  {
   "cell_type": "code",
   "execution_count": 14,
   "id": "cfc813c2-d9bf-4a56-b58e-c17f6636867f",
   "metadata": {},
   "outputs": [
    {
     "name": "stdout",
     "output_type": "stream",
     "text": [
      "('lig_15', 'lig_4') 1.2214\n",
      "('lig_15', 'lig_12') 1.2214\n",
      "('lig_15', 'lig_13') 1.2214\n",
      "('lig_15', 'lig_2') 1.2214\n",
      "('lig_15', 'lig_10') 1.2214\n",
      "('lig_15', 'lig_9') 1.2214\n",
      "('lig_15', 'lig_6') 1.2214\n",
      "('lig_15', 'lig_7') 1.2214\n",
      "('lig_15', 'lig_14') 1.2214\n",
      "('lig_15', 'lig_8') 1.2214\n",
      "('lig_15', 'lig_1') 1.2214\n",
      "('lig_15', 'lig_11') 1.2214\n",
      "('lig_15', 'lig_3') 1.2214\n",
      "('lig_15', 'lig_5') 1.2214\n",
      "('lig_15', 'lig_16') 1.2214\n",
      "('lig_4', 'lig_12') 1.2214\n",
      "('lig_4', 'lig_13') 1.2214\n",
      "('lig_4', 'lig_2') 1.2214\n",
      "('lig_4', 'lig_10') 1.2214\n",
      "('lig_4', 'lig_9') 1.2214\n",
      "('lig_4', 'lig_6') 1.2214\n",
      "('lig_4', 'lig_7') 1.2214\n",
      "('lig_4', 'lig_14') 1.2214\n",
      "('lig_4', 'lig_8') 1.2214\n",
      "('lig_4', 'lig_1') 1.2214\n",
      "('lig_4', 'lig_11') 1.2214\n",
      "('lig_4', 'lig_3') 1.2214\n",
      "('lig_4', 'lig_5') 1.2214\n",
      "('lig_4', 'lig_16') 1.2214\n",
      "('lig_12', 'lig_13') 1.2214\n",
      "('lig_12', 'lig_2') 1.2214\n",
      "('lig_12', 'lig_10') 1.2214\n",
      "('lig_12', 'lig_9') 1.2214\n",
      "('lig_12', 'lig_6') 1.2214\n",
      "('lig_12', 'lig_7') 1.2214\n",
      "('lig_12', 'lig_14') 1.2214\n",
      "('lig_12', 'lig_8') 1.2214\n",
      "('lig_12', 'lig_1') 1.2214\n",
      "('lig_12', 'lig_11') 1.2214\n",
      "('lig_12', 'lig_3') 1.2214\n",
      "('lig_12', 'lig_5') 1.2214\n",
      "('lig_12', 'lig_16') 1.2214\n",
      "('lig_13', 'lig_2') 1.2214\n",
      "('lig_13', 'lig_10') 1.2214\n",
      "('lig_13', 'lig_9') 1.2214\n",
      "('lig_13', 'lig_6') 1.2214\n",
      "('lig_13', 'lig_7') 1.2214\n",
      "('lig_13', 'lig_14') 1.2214\n",
      "('lig_13', 'lig_8') 1.2214\n",
      "('lig_13', 'lig_1') 1.2214\n",
      "('lig_13', 'lig_11') 1.2214\n",
      "('lig_13', 'lig_3') 1.2214\n",
      "('lig_13', 'lig_5') 1.2214\n",
      "('lig_13', 'lig_16') 1.2214\n",
      "('lig_2', 'lig_10') 1.2214\n",
      "('lig_2', 'lig_9') 1.2214\n",
      "('lig_2', 'lig_6') 1.2214\n",
      "('lig_2', 'lig_7') 1.2214\n",
      "('lig_2', 'lig_14') 1.2214\n",
      "('lig_2', 'lig_8') 1.2214\n",
      "('lig_2', 'lig_1') 1.2214\n",
      "('lig_2', 'lig_11') 1.2214\n",
      "('lig_2', 'lig_3') 1.2214\n",
      "('lig_2', 'lig_5') 1.2214\n",
      "('lig_2', 'lig_16') 1.2214\n",
      "('lig_10', 'lig_9') 1.2214\n",
      "('lig_10', 'lig_6') 1.2214\n",
      "('lig_10', 'lig_7') 1.2214\n",
      "('lig_10', 'lig_14') 1.2214\n",
      "('lig_10', 'lig_8') 1.2214\n",
      "('lig_10', 'lig_1') 1.2214\n",
      "('lig_10', 'lig_11') 1.2214\n",
      "('lig_10', 'lig_3') 1.2214\n",
      "('lig_10', 'lig_5') 1.2214\n",
      "('lig_10', 'lig_16') 1.2214\n",
      "('lig_9', 'lig_6') 1.2214\n",
      "('lig_9', 'lig_7') 1.2214\n",
      "('lig_9', 'lig_14') 1.2214\n",
      "('lig_9', 'lig_8') 1.2214\n",
      "('lig_9', 'lig_1') 1.2214\n",
      "('lig_9', 'lig_11') 1.2214\n",
      "('lig_9', 'lig_3') 1.2214\n",
      "('lig_9', 'lig_5') 1.2214\n",
      "('lig_9', 'lig_16') 1.2214\n",
      "('lig_6', 'lig_7') 1.2214\n",
      "('lig_6', 'lig_14') 1.2214\n",
      "('lig_6', 'lig_8') 1.2214\n",
      "('lig_6', 'lig_1') 1.2214\n",
      "('lig_6', 'lig_11') 1.2214\n",
      "('lig_6', 'lig_3') 1.2214\n",
      "('lig_6', 'lig_5') 1.2214\n",
      "('lig_6', 'lig_16') 1.2214\n",
      "('lig_7', 'lig_14') 1.2214\n",
      "('lig_7', 'lig_8') 1.2214\n",
      "('lig_7', 'lig_1') 1.2214\n",
      "('lig_7', 'lig_11') 1.2214\n",
      "('lig_7', 'lig_3') 1.2214\n",
      "('lig_7', 'lig_5') 1.2214\n",
      "('lig_7', 'lig_16') 1.2214\n",
      "('lig_14', 'lig_8') 1.2214\n",
      "('lig_14', 'lig_1') 1.2214\n",
      "('lig_14', 'lig_11') 1.2214\n",
      "('lig_14', 'lig_3') 1.2214\n",
      "('lig_14', 'lig_5') 1.2214\n",
      "('lig_14', 'lig_16') 1.2214\n",
      "('lig_8', 'lig_1') 1.2214\n",
      "('lig_8', 'lig_11') 1.2214\n",
      "('lig_8', 'lig_3') 1.2214\n",
      "('lig_8', 'lig_5') 1.2214\n",
      "('lig_8', 'lig_16') 1.2214\n",
      "('lig_1', 'lig_11') 1.2214\n",
      "('lig_1', 'lig_3') 1.2214\n",
      "('lig_1', 'lig_5') 1.2214\n",
      "('lig_1', 'lig_16') 1.2214\n",
      "('lig_11', 'lig_3') 1.2214\n",
      "('lig_11', 'lig_5') 1.2214\n",
      "('lig_11', 'lig_16') 1.2214\n",
      "('lig_3', 'lig_5') 1.2214\n",
      "('lig_3', 'lig_16') 1.2214\n",
      "('lig_5', 'lig_16') 1.2214\n"
     ]
    }
   ],
   "source": [
    "perturbation_network_dict = {}\n",
    "transformations_named = [(ligand_names[transformation[0]], ligand_names[transformation[1]]) for transformation in transformations]\n",
    "for transformation, score in zip(transformations_named, lomap_scores):\n",
    "    print(transformation, score)\n",
    "    perturbation_network_dict[transformation] = score"
   ]
  },
  {
   "cell_type": "markdown",
   "id": "213e95e7-3c0a-4a49-9c05-f05eded6a176",
   "metadata": {},
   "source": [
    "# VIM-2 Prep\n"
   ]
  },
  {
   "cell_type": "code",
   "execution_count": 29,
   "id": "f6092238-be17-4808-aa07-8ce7457d549d",
   "metadata": {},
   "outputs": [],
   "source": [
    "protein_pdb = \"../inputs/protein/vim2.amber.pdb\""
   ]
  },
  {
   "cell_type": "code",
   "execution_count": 33,
   "id": "1766687f-98fc-42ec-af88-157d9d22dc04",
   "metadata": {},
   "outputs": [],
   "source": [
    "protein = bss.IO.readMolecules(protein_pdb)[0]\n",
    "protein_parameters = bss.Parameters.parameterise(protein, \"ff14SB\").getMolecule()"
   ]
  },
  {
   "cell_type": "code",
   "execution_count": 32,
   "id": "3ffb8a2a-ebfe-48c3-b119-668f2c61f2cc",
   "metadata": {},
   "outputs": [],
   "source": [
    "view = bss.Notebook.View(protein)\n",
    "# view.system()"
   ]
  },
  {
   "cell_type": "code",
   "execution_count": 38,
   "id": "dfe9b4a0-3c55-429f-8955-ec579a0ae14e",
   "metadata": {},
   "outputs": [
    {
     "data": {
      "text/plain": [
       "['spc', 'spce', 'tip3p', 'tip4p', 'tip5p']"
      ]
     },
     "execution_count": 38,
     "metadata": {},
     "output_type": "execute_result"
    }
   ],
   "source": [
    "bss.Solvent.waterModels()"
   ]
  },
  {
   "cell_type": "code",
   "execution_count": 42,
   "id": "72c4ff04-dfaa-4848-b9bd-eee83fd117f5",
   "metadata": {},
   "outputs": [],
   "source": [
    "zincs_pdb = \"../inputs/protein/vim2_zn.pdb\"\n",
    "zincs = bss.IO.readMolecules(zincs_pdb)[0]\n",
    "zinc_parameters = bss.Parameters.parameterise(zincs, water_model=\"tip3p\", forcefield=\"ff14SB\").getMolecule()"
   ]
  },
  {
   "cell_type": "code",
   "execution_count": 31,
   "id": "ce384e34-b62b-4dee-9c90-ef8e86cd49fe",
   "metadata": {},
   "outputs": [],
   "source": [
    "view = bss.Notebook.View(zincs)\n",
    "# view.system()"
   ]
  },
  {
   "cell_type": "code",
   "execution_count": 25,
   "id": "7214026d-e9c1-4d1d-a017-40b8eda6fcc4",
   "metadata": {},
   "outputs": [],
   "source": [
    "hoh_pdb = \"../inputs/protein/vim2_hoh.pdb\"\n",
    "hoh = bss.IO.readMolecules(hoh_pdb)[0]\n"
   ]
  },
  {
   "cell_type": "code",
   "execution_count": 43,
   "id": "c381938a-9b30-4e49-af24-03b5a0805375",
   "metadata": {},
   "outputs": [],
   "source": [
    "system = protein_parameters + zinc_parameters + hoh"
   ]
  },
  {
   "cell_type": "code",
   "execution_count": 44,
   "id": "6a6833ce-ab0b-4ac0-957f-500e6e3fc344",
   "metadata": {},
   "outputs": [
    {
     "data": {
      "text/plain": [
       "['/home/jguven/projects/metalloproteins/metallobetalactamases/inputs/protein/protein.pdb']"
      ]
     },
     "execution_count": 44,
     "metadata": {},
     "output_type": "execute_result"
    }
   ],
   "source": [
    "bss.IO.saveMolecules(\"../inputs/protein/protein\", protein, fileformat=\"pdb\")"
   ]
  },
  {
   "cell_type": "code",
   "execution_count": null,
   "id": "57f5e983-dcfd-43c4-9173-186bdcedf22c",
   "metadata": {},
   "outputs": [],
   "source": []
  }
 ],
 "metadata": {
  "kernelspec": {
   "display_name": "Python 3 (ipykernel)",
   "language": "python",
   "name": "python3"
  },
  "language_info": {
   "codemirror_mode": {
    "name": "ipython",
    "version": 3
   },
   "file_extension": ".py",
   "mimetype": "text/x-python",
   "name": "python",
   "nbconvert_exporter": "python",
   "pygments_lexer": "ipython3",
   "version": "3.9.13"
  }
 },
 "nbformat": 4,
 "nbformat_minor": 5
}
