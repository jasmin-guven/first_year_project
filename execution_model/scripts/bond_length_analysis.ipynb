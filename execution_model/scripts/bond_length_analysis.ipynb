{
 "cells": [
  {
   "cell_type": "code",
   "execution_count": 1,
   "metadata": {},
   "outputs": [
    {
     "data": {
      "application/vnd.jupyter.widget-view+json": {
       "model_id": "d8c6a73120b74771988f6cf7cea1c1c3",
       "version_major": 2,
       "version_minor": 0
      },
      "text/plain": []
     },
     "metadata": {},
     "output_type": "display_data"
    }
   ],
   "source": [
    "import MDAnalysis as mda\n",
    "import MDAnalysis.transformations\n",
    "import nglview as nv"
   ]
  },
  {
   "cell_type": "code",
   "execution_count": 2,
   "metadata": {},
   "outputs": [],
   "source": [
    "def get_universe(file_path: str) -> tuple:\n",
    "    \"\"\"\n",
    "    get PARM7, DCD files and return universe\n",
    "    \"\"\"\n",
    "    topology = file_path + \"somd.prm7\"\n",
    "    trajectory = file_path + \"traj000000002.dcd\"\n",
    "    if not os.path.isfile(trajectory):\n",
    "        trajectory = file_path + \"traj000000001.dcd\"\n",
    "    return mda.Universe(topology, trajectory, topology_format=\"PARM7\")"
   ]
  },
  {
   "cell_type": "code",
   "execution_count": 3,
   "metadata": {},
   "outputs": [
    {
     "name": "stderr",
     "output_type": "stream",
     "text": [
      "Warning: importing 'simtk.openmm' is deprecated.  Import 'openmm' instead.\n"
     ]
    }
   ],
   "source": [
    "path = f\"../outputs/SOMD/lig_h_1~lig_h_2/bound/lambda_0.0000/\"\n",
    "universe = get_universe(path)\n",
    "workflow = [mda.transformations.unwrap(universe.atoms)]\n",
    "universe.trajectory.add_transformations(*workflow)\n",
    "ligand = universe.select_atoms(\"resname LIG\")"
   ]
  },
  {
   "cell_type": "code",
   "execution_count": 4,
   "metadata": {},
   "outputs": [],
   "source": [
    "carbon_and_dummy = ligand.select_atoms(\"name C02 C1\")"
   ]
  },
  {
   "cell_type": "code",
   "execution_count": 5,
   "metadata": {},
   "outputs": [],
   "source": [
    "bonds = carbon_and_dummy.bonds\n",
    "n_frames = universe.trajectory.n_frames\n",
    "bond_lengths = []\n",
    "for frame in range(n_frames):\n",
    "    universe.trajectory[frame]\n",
    "    bond_lengths = [(atom1.ix, atom2.ix, bond_length) for (atom1, atom2, bond_length) in zip(bonds.atom1, bonds.atom2, bonds.bonds())]\n"
   ]
  },
  {
   "cell_type": "code",
   "execution_count": 11,
   "metadata": {},
   "outputs": [
    {
     "data": {
      "application/vnd.jupyter.widget-view+json": {
       "model_id": "cc4bc6f30818430bbbd6b196fd23c019",
       "version_major": 2,
       "version_minor": 0
      },
      "text/plain": [
       "NGLWidget(max_frame=499)"
      ]
     },
     "metadata": {},
     "output_type": "display_data"
    }
   ],
   "source": [
    "nv.show_mdanalysis(ligand)"
   ]
  },
  {
   "cell_type": "code",
   "execution_count": null,
   "metadata": {},
   "outputs": [],
   "source": [
    "bond_lengths"
   ]
  },
  {
   "cell_type": "code",
   "execution_count": null,
   "metadata": {},
   "outputs": [],
   "source": []
  }
 ],
 "metadata": {
  "kernelspec": {
   "display_name": "Python 3.9.13 ('bss-d')",
   "language": "python",
   "name": "python3"
  },
  "language_info": {
   "codemirror_mode": {
    "name": "ipython",
    "version": 3
   },
   "file_extension": ".py",
   "mimetype": "text/x-python",
   "name": "python",
   "nbconvert_exporter": "python",
   "pygments_lexer": "ipython3",
   "version": "3.9.13"
  },
  "orig_nbformat": 4,
  "vscode": {
   "interpreter": {
    "hash": "f81d097606b2934fa8d1922533f78f64a436eb4cf1588d61ff1c0b79a2076e9c"
   }
  }
 },
 "nbformat": 4,
 "nbformat_minor": 2
}
