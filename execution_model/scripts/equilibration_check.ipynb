{
 "cells": [
  {
   "cell_type": "code",
   "execution_count": 1,
   "id": "33429bad-4564-480a-9d19-15856a7dcfd1",
   "metadata": {
    "tags": []
   },
   "outputs": [
    {
     "name": "stderr",
     "output_type": "stream",
     "text": [
      "/home/jguven/Software/miniconda3/envs/bss-d/lib/python3.9/site-packages/numpy/core/getlimits.py:499: UserWarning: The value of the smallest subnormal for <class 'numpy.float64'> type is zero.\n",
      "  setattr(self, word, getattr(machar, word).flat[0])\n",
      "/home/jguven/Software/miniconda3/envs/bss-d/lib/python3.9/site-packages/numpy/core/getlimits.py:89: UserWarning: The value of the smallest subnormal for <class 'numpy.float64'> type is zero.\n",
      "  return self._float_to_str(self.smallest_subnormal)\n",
      "/home/jguven/Software/miniconda3/envs/bss-d/lib/python3.9/site-packages/numpy/core/getlimits.py:499: UserWarning: The value of the smallest subnormal for <class 'numpy.float32'> type is zero.\n",
      "  setattr(self, word, getattr(machar, word).flat[0])\n",
      "/home/jguven/Software/miniconda3/envs/bss-d/lib/python3.9/site-packages/numpy/core/getlimits.py:89: UserWarning: The value of the smallest subnormal for <class 'numpy.float32'> type is zero.\n",
      "  return self._float_to_str(self.smallest_subnormal)\n",
      "Warning: importing 'simtk.openmm' is deprecated.  Import 'openmm' instead.\n"
     ]
    },
    {
     "name": "stdout",
     "output_type": "stream",
     "text": [
      "\n",
      "==============================================================\n",
      "Sending anonymous Sire usage statistics to http://siremol.org.\n",
      "For more information, see http://siremol.org/analytics\n",
      "To disable, set the environment variable 'SIRE_DONT_PHONEHOME' to 1\n",
      "To see the information sent, set the environment variable \n",
      "SIRE_VERBOSE_PHONEHOME equal to 1. To silence this message, set\n",
      "the environment variable SIRE_SILENT_PHONEHOME to 1.\n",
      "==============================================================\n",
      "\n"
     ]
    }
   ],
   "source": [
    "import BioSimSpace as bss\n",
    "import sys\n",
    "from BioSimSpace import _Exceptions\n",
    "import os\n",
    "from tqdm import tqdm"
   ]
  },
  {
   "cell_type": "code",
   "execution_count": 2,
   "id": "cabf2fb5-0377-46eb-9cb4-949d1ad027da",
   "metadata": {},
   "outputs": [],
   "source": [
    "import Sire"
   ]
  },
  {
   "cell_type": "code",
   "execution_count": 3,
   "id": "528dcfa1-7ebb-4a6c-be49-7ccae5d775f8",
   "metadata": {},
   "outputs": [
    {
     "data": {
      "text/plain": [
       "['Somd', 'Gromacs']"
      ]
     },
     "execution_count": 3,
     "metadata": {},
     "output_type": "execute_result"
    }
   ],
   "source": [
    "bss.FreeEnergy.engines()"
   ]
  },
  {
   "cell_type": "code",
   "execution_count": 2,
   "id": "082f524f-7993-4f8d-bad4-9d1965d0d7f8",
   "metadata": {},
   "outputs": [
    {
     "data": {
      "text/plain": [
       "['Gro87', 'GroTop', 'MOL2', 'PDB', 'PRM7', 'PSF', 'RST', 'RST7', 'SDF']"
      ]
     },
     "execution_count": 2,
     "metadata": {},
     "output_type": "execute_result"
    }
   ],
   "source": [
    "bss.IO.fileFormats()"
   ]
  },
  {
   "cell_type": "code",
   "execution_count": 6,
   "id": "ff53e39e-a4ba-4be1-a27d-09d553f30f63",
   "metadata": {},
   "outputs": [],
   "source": [
    "index = 0\n",
    "ligand_stream = open(\"../ligands.dat\", \"r\")\n",
    "ligand_lines = ligand_stream.readlines()\n",
    "ligand_name = ligand_lines[index].rstrip()\n",
    "ligand_solvated = bss.IO.readMolecules([f\"../inputs/ligands/{ligand_name}_ligand_solvated.prm7\",\n",
    "                                        f\"../inputs/ligands/{ligand_name}_ligand_solvated.rst7\"])\n",
    "system_solvated = bss.IO.readMolecules([f\"../inputs/ligands/{ligand_name}_system_solvated.prm7\",\n",
    "                                        f\"../inputs/ligands/{ligand_name}_system_solvated.rst7\"])\n"
   ]
  },
  {
   "cell_type": "code",
   "execution_count": 52,
   "id": "654b6b74-c20e-452b-b96c-ff7451b179ba",
   "metadata": {},
   "outputs": [],
   "source": [
    "def run_process(system, md_protocol):\n",
    "    \"\"\"\n",
    "    @param system: solvated system (bss object)\n",
    "    @param md_protocol: bss protocolbss protocol\n",
    "    @return the process.\n",
    "    \"\"\"\n",
    "    process = bss.Process.Gromacs(system, md_protocol)\n",
    "    # process.setArgs({\"-nt\": 1, \"-nb\": \"gpu\", \"-gpu_id\": 0})\n",
    "    process.setArg(\"-nt\", 1)\n",
    "    process.setArg(\"-v\", \"yes\")\n",
    "    # process.setArg(\"-nb\", \"gpu\")\n",
    "    # process.setArg(\"-gpu_id\", 0)\n",
    "    process.start()\n",
    "    process.wait()\n",
    "    print(f\"\\n {process}\")\n",
    "    print(f\"\\n Runtime: {process.runTime()}\")\n",
    "    if process.isError():\n",
    "        print(process.stdout())\n",
    "        print(process.stderr())\n",
    "        raise _Exceptions.ThirdPartyError(\"The process exited with an error!\")\n",
    "    return process\n",
    "\n"
   ]
  },
  {
   "cell_type": "code",
   "execution_count": 53,
   "id": "668be29e-97dc-4e16-8d14-d47b09891823",
   "metadata": {},
   "outputs": [],
   "source": [
    "minimisation_steps = 10\n",
    "runtime_short_nvt = 5  # ps\n",
    "runtime_nvt = 50  # ps\n",
    "runtime_npt = 200  # ps"
   ]
  },
  {
   "cell_type": "code",
   "execution_count": 56,
   "id": "193f1ba7-c8d2-440e-af75-6d6766c9994d",
   "metadata": {},
   "outputs": [
    {
     "name": "stdout",
     "output_type": "stream",
     "text": [
      "---------------------------\n",
      "Working on solvated ligand.\n",
      "Minimising in 10 steps.\n",
      "\n",
      " <BioSimSpace.Process.Gromacs: system=<BioSimSpace.System: nMolecules=666>, protocol=BioSimSpace.Protocol.Minimisation(steps=10), exe='/opt/bin/bin/gmx', name='gromacs', work_dir='/tmp/tmphhsycpwf', seed=None>\n",
      "\n",
      " Runtime: 0.0034 mins\n",
      "Finished minimisation.\n"
     ]
    }
   ],
   "source": [
    "print(\"---------------------------\")\n",
    "print(\"Working on solvated ligand.\")\n",
    "print(f\"\\nMinimising in {minimisation_steps} steps.\")\n",
    "protocol = bss.Protocol.Minimisation(steps=minimisation_steps)\n",
    "minimised_process = run_process(ligand_solvated, protocol)\n",
    "minimised = minimised_process.getSystem()\n",
    "print(\"Finished minimisation.\")"
   ]
  },
  {
   "cell_type": "code",
   "execution_count": 57,
   "id": "68c001d8-d708-49a0-8c6d-5ea3c259bfd0",
   "metadata": {},
   "outputs": [
    {
     "name": "stdout",
     "output_type": "stream",
     "text": [
      "NVT equilibration for 5 ps while restraining all non-solvent atoms.\n",
      "\n",
      " <BioSimSpace.Process.Gromacs: system=<BioSimSpace.System: nMolecules=666>, protocol=BioSimSpace.Protocol.Equilibration(timestep=2.0000 fs, runtime=5.0000 ps, temperature_start=0.0100 K, temperature_end=300.0000 K, pressure=None, report_interval=100, restart_interval=500, restraint='all', force_constant=10.00), exe='/opt/bin/bin/gmx', name='gromacs', work_dir='/tmp/tmp5jak2_gb', seed=None>\n",
      "\n",
      " Runtime: 0.0650 mins\n"
     ]
    }
   ],
   "source": [
    "print(f\"\\nNVT equilibration for {runtime_short_nvt} ps while restraining all non-solvent atoms.\")\n",
    "protocol = bss.Protocol.Equilibration(\n",
    "                                    runtime=runtime_short_nvt*bss.Units.Time.picosecond,\n",
    "                                    temperature_start=0*bss.Units.Temperature.kelvin,\n",
    "                                    temperature_end=300*bss.Units.Temperature.kelvin,\n",
    "                                    restraint=\"all\"\n",
    "                                )\n",
    "restrained_nvt_process = run_process(minimised, protocol)\n",
    "restrained_nvt = restrained_nvt_process.getSystem()"
   ]
  },
  {
   "cell_type": "code",
   "execution_count": 58,
   "id": "338e06de-7cf5-41a9-8474-ce2c05be896c",
   "metadata": {},
   "outputs": [
    {
     "name": "stdout",
     "output_type": "stream",
     "text": [
      "NVT equilibration for 50 ps without restraints.\n",
      "\n",
      " <BioSimSpace.Process.Gromacs: system=<BioSimSpace.System: nMolecules=666>, protocol=BioSimSpace.Protocol.Equilibration(timestep=2.0000 fs, runtime=50.0000 ps, temperature_start=300.0000 K, temperature_end=300.0000 K, pressure=None, report_interval=100, restart_interval=500, restraint=None, force_constant=10.00), exe='/opt/bin/bin/gmx', name='gromacs', work_dir='/tmp/tmp5rfvdrzj', seed=None>\n",
      "\n",
      " Runtime: 0.6281 mins\n"
     ]
    }
   ],
   "source": [
    "print(f\"\\nNVT equilibration for {runtime_nvt} ps without restraints.\")\n",
    "protocol = bss.Protocol.Equilibration(\n",
    "                                runtime=runtime_nvt*bss.Units.Time.picosecond,\n",
    "                                temperature=300*bss.Units.Temperature.kelvin,\n",
    "                                )\n",
    "\n",
    "nvt_process = run_process(restrained_nvt, protocol)\n",
    "nvt = nvt_process.getSystem()"
   ]
  },
  {
   "cell_type": "code",
   "execution_count": 59,
   "id": "87618315-d4d5-4203-b8a0-9eb8c41d503c",
   "metadata": {},
   "outputs": [
    {
     "name": "stdout",
     "output_type": "stream",
     "text": [
      "\n",
      "NPT equilibration for 200 ps while restraining non-solvent heavy atoms.\n",
      "\n",
      " <BioSimSpace.Process.Gromacs: system=<BioSimSpace.System: nMolecules=666>, protocol=BioSimSpace.Protocol.Equilibration(timestep=2.0000 fs, runtime=200.0000 ps, temperature_start=300.0000 K, temperature_end=300.0000 K, pressure=1.0000 atm, report_interval=100, restart_interval=500, restraint='heavy', force_constant=10.00), exe='/opt/bin/bin/gmx', name='gromacs', work_dir='/tmp/tmpw0f9157h', seed=None>\n",
      "\n",
      " Runtime: 2.5507 mins\n"
     ]
    }
   ],
   "source": [
    "print(f\"\\nNPT equilibration for {runtime_npt} ps while restraining non-solvent heavy atoms.\")\n",
    "protocol = bss.Protocol.Equilibration(\n",
    "                                runtime=runtime_npt*bss.Units.Time.picosecond,\n",
    "                                pressure=1*bss.Units.Pressure.atm,\n",
    "                                temperature=300*bss.Units.Temperature.kelvin,\n",
    "                                restraint=\"heavy\",\n",
    "                                )\n",
    "restrained_npt_process = run_process(nvt, protocol)\n",
    "restrained_npt = restrained_npt_process.getSystem()"
   ]
  },
  {
   "cell_type": "code",
   "execution_count": 61,
   "id": "0cb46506-f7fe-4f05-9a3e-95c59dc93280",
   "metadata": {},
   "outputs": [
    {
     "data": {
      "text/plain": [
       "0"
      ]
     },
     "execution_count": 61,
     "metadata": {},
     "output_type": "execute_result"
    }
   ],
   "source": [
    "index = 5\n",
    "os.system(f\"touch test_{index}.txt\")"
   ]
  },
  {
   "cell_type": "code",
   "execution_count": null,
   "id": "11a77ea1-e036-4d63-8846-6051aa0b360e",
   "metadata": {},
   "outputs": [],
   "source": [
    "\n",
    "output_files = minimised_process.workDir()\n",
    "os.system(f\"cp {output_files}/* ../equilibration_files/equilibration_{index}/\")\n"
   ]
  },
  {
   "cell_type": "code",
   "execution_count": null,
   "id": "ea8262cd-6fca-45f8-a599-9e3a797d9701",
   "metadata": {},
   "outputs": [],
   "source": []
  }
 ],
 "metadata": {
  "kernelspec": {
   "display_name": "Python 3 (ipykernel)",
   "language": "python",
   "name": "python3"
  },
  "language_info": {
   "codemirror_mode": {
    "name": "ipython",
    "version": 3
   },
   "file_extension": ".py",
   "mimetype": "text/x-python",
   "name": "python",
   "nbconvert_exporter": "python",
   "pygments_lexer": "ipython3",
   "version": "3.9.13"
  }
 },
 "nbformat": 4,
 "nbformat_minor": 5
}
