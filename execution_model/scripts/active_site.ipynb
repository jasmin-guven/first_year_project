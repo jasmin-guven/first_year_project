{
 "cells": [
  {
   "cell_type": "code",
   "execution_count": 1,
   "id": "df171e9c-23d8-47ca-9f7a-39a10851cd90",
   "metadata": {},
   "outputs": [
    {
     "name": "stderr",
     "output_type": "stream",
     "text": [
      "<frozen importlib._bootstrap>:228: RuntimeWarning: to-Python converter for std::vector<double, std::allocator<double> > already registered; second conversion method ignored.\n"
     ]
    },
    {
     "name": "stdout",
     "output_type": "stream",
     "text": [
      "\n",
      "==============================================================\n",
      "Sending anonymous Sire usage statistics to http://siremol.org.\n",
      "For more information, see http://siremol.org/analytics\n",
      "To disable, set the environment variable 'SIRE_DONT_PHONEHOME' to 1\n",
      "To see the information sent, set the environment variable \n",
      "SIRE_VERBOSE_PHONEHOME equal to 1. To silence this message, set\n",
      "the environment variable SIRE_SILENT_PHONEHOME to 1.\n",
      "==============================================================\n",
      "\n"
     ]
    },
    {
     "name": "stderr",
     "output_type": "stream",
     "text": [
      "Warning: importing 'simtk.openmm' is deprecated.  Import 'openmm' instead.\n"
     ]
    }
   ],
   "source": [
    "import MDAnalysis as mda\n",
    "import BioSimSpace as bss\n",
    "import numpy as np"
   ]
  },
  {
   "cell_type": "code",
   "execution_count": 2,
   "id": "06b0454b-7f35-4c98-aeea-5e2e26bf4add",
   "metadata": {},
   "outputs": [],
   "source": [
    "path = \"../outputs/SOMD/lig_h_1~lig_h_2/bound/lambda_1.0000/\""
   ]
  },
  {
   "cell_type": "code",
   "execution_count": 3,
   "id": "fa082359-f28d-4685-ad8d-0fc5d6bf3d45",
   "metadata": {},
   "outputs": [
    {
     "data": {
      "text/plain": [
       "<Universe with 54554 atoms>"
      ]
     },
     "execution_count": 3,
     "metadata": {},
     "output_type": "execute_result"
    }
   ],
   "source": [
    "universe = mda.Universe(path+\"latest.pdb\")\n",
    "universe"
   ]
  },
  {
   "cell_type": "code",
   "execution_count": 4,
   "id": "bf72a280-bdad-4cf3-9f83-642201355ab5",
   "metadata": {},
   "outputs": [],
   "source": [
    "\n",
    "protein = universe.select_atoms(\"protein\")"
   ]
  },
  {
   "cell_type": "code",
   "execution_count": null,
   "id": "30df4d9e-654d-4981-a548-5d9559526d0f",
   "metadata": {},
   "outputs": [],
   "source": []
  }
 ],
 "metadata": {
  "kernelspec": {
   "display_name": "Python 3 (ipykernel)",
   "language": "python",
   "name": "python3"
  },
  "language_info": {
   "codemirror_mode": {
    "name": "ipython",
    "version": 3
   },
   "file_extension": ".py",
   "mimetype": "text/x-python",
   "name": "python",
   "nbconvert_exporter": "python",
   "pygments_lexer": "ipython3",
   "version": "3.9.13"
  }
 },
 "nbformat": 4,
 "nbformat_minor": 5
}
