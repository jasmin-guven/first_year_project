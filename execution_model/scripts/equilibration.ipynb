{
 "cells": [
  {
   "cell_type": "code",
   "execution_count": 2,
   "id": "829427ef-67ea-4f9d-9398-4726ba5b9c5f",
   "metadata": {},
   "outputs": [],
   "source": [
    "import BioSimSpace as BSS\n",
    "import sys\n",
    "import os\n",
    "import csv"
   ]
  },
  {
   "cell_type": "markdown",
   "id": "ef94fbd3-7c82-43ec-be4e-dbd9723da258",
   "metadata": {},
   "source": [
    "# Settings"
   ]
  },
  {
   "cell_type": "code",
   "execution_count": 3,
   "id": "4efd12fb-cbcf-4b10-8a94-3218cbbb4548",
   "metadata": {},
   "outputs": [],
   "source": [
    "minimisation_steps = 250\n",
    "runtime_short_nvt = 5 # ps\n",
    "runtime_nvt = 50 # ps\n",
    "runtime_npt = 200 # ps"
   ]
  },
  {
   "cell_type": "markdown",
   "id": "60bbe224-cd52-4a56-aac9-dc49668ac602",
   "metadata": {},
   "source": [
    "# `sys.argv`"
   ]
  },
  {
   "cell_type": "code",
   "execution_count": null,
   "id": "b8633200-3f9c-495e-a980-b11ff17d9cf0",
   "metadata": {},
   "outputs": [],
   "source": [
    "index = sys.argv[1]\n"
   ]
  },
  {
   "cell_type": "markdown",
   "id": "976a89f2-d18a-4a42-b696-124432c2e5f3",
   "metadata": {},
   "source": [
    "# `ligands.dat` file"
   ]
  },
  {
   "cell_type": "code",
   "execution_count": 4,
   "id": "dd9e04fb-86d0-496d-9c9c-e65db7f9f119",
   "metadata": {},
   "outputs": [
    {
     "name": "stdout",
     "output_type": "stream",
     "text": [
      "lig_h_8\n",
      "lig_h_4\n",
      "lig_h_13\n",
      "lig_h_16\n",
      "lig_h_9\n",
      "lig_h_6\n",
      "lig_h_15\n",
      "lig_h_10\n",
      "lig_h_7\n",
      "lig_h_12\n",
      "lig_h_3\n",
      "lig_h_1\n",
      "lig_h_5\n",
      "lig_h_2\n",
      "lig_h_14\n",
      "lig_h_11\n"
     ]
    }
   ],
   "source": [
    "file_stream = open(\"execution_model/ligands.dat\", \"r\")\n",
    "lines = file_stream.readlines()\n"
   ]
  },
  {
   "cell_type": "code",
   "execution_count": null,
   "id": "19f9c427-5a91-4df3-9974-e195c2cf8cde",
   "metadata": {},
   "outputs": [],
   "source": []
  }
 ],
 "metadata": {
  "kernelspec": {
   "display_name": "Python 3 (ipykernel)",
   "language": "python",
   "name": "python3"
  },
  "language_info": {
   "codemirror_mode": {
    "name": "ipython",
    "version": 3
   },
   "file_extension": ".py",
   "mimetype": "text/x-python",
   "name": "python",
   "nbconvert_exporter": "python",
   "pygments_lexer": "ipython3",
   "version": "3.9.12"
  }
 },
 "nbformat": 4,
 "nbformat_minor": 5
}
