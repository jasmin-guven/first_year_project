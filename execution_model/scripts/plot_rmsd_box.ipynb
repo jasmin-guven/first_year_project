{
 "cells": [
  {
   "cell_type": "code",
   "execution_count": 1,
   "metadata": {},
   "outputs": [],
   "source": [
    "import numpy as np\n",
    "import MDAnalysis as mda\n",
    "import MDAnalysis.transformations\n",
    "import MDAnalysis.analysis.rms\n",
    "import matplotlib.pyplot as plt\n",
    "import os \n",
    "import seaborn as sns"
   ]
  },
  {
   "cell_type": "code",
   "execution_count": 28,
   "metadata": {},
   "outputs": [],
   "source": [
    "ligands_all = np.arange(2, 17, 1)\n",
    "ligands = np.delete(ligands_all, 10)\n"
   ]
  },
  {
   "cell_type": "code",
   "execution_count": 29,
   "metadata": {},
   "outputs": [],
   "source": [
    "def get_rmsd(ligand_array: np.ndarray, stage: str) -> tuple: \n",
    "    \"\"\"\n",
    "    loop over ligands and get rmsds over trajectory\n",
    "    \"\"\"\n",
    "    times = []\n",
    "    rmsds = []\n",
    "    for i in range(len(ligand_array)):\n",
    "        path = f\"../outputs/SOMD/lig_h_1~lig_h_{ligand_array[i]}/{stage}/lambda_1.0000/\"\n",
    "        print(f\"looking at {path}\")\n",
    "        trajectory_filename = \"\"\n",
    "        if os.path.exists(path+\"traj000000002.dcd\"):\n",
    "            trajectory_filename = path+\"traj000000002.dcd\"\n",
    "        else:\n",
    "            trajectory_filename = path+\"traj000000001.dcd\"\n",
    "\n",
    "        universe = mda.Universe(path+\"somd.prm7\", trajectory_filename, topology_format=\"PARM7\")\n",
    "        workflow = [mda.transformations.unwrap(universe.atoms)]\n",
    "        universe.trajectory.add_transformations(*workflow)\n",
    "        \n",
    "        # frames = []\n",
    "        # for timestep in universe.trajectory:\n",
    "        #     frame = timestep.frame\n",
    "        #     frames.append(frame)    \n",
    "        \n",
    "        reference_universe = mda.Universe(path+\"somd.prm7\", trajectory_filename, topology_format=\"PARM7\")\n",
    "        reference_universe.trajectory[0]\n",
    "\n",
    "        ligand = universe.select_atoms(\"resname LIG\")\n",
    "        reference = reference_universe.select_atoms(\"resname LIG\")\n",
    "\n",
    "\n",
    "        rmsd = mda.analysis.rms.RMSD(ligand, reference)\n",
    "        rmsd.run()\n",
    "\n",
    "        rmsd_result = rmsd.results.rmsd.T\n",
    "\n",
    "        time = rmsd_result[1]\n",
    "        rmsd_values = rmsd_result[2]\n",
    "\n",
    "        times.append(time)\n",
    "        rmsds.append(rmsd_values)\n",
    "\n",
    "        # rmsd_dictionary[\"time\"].append(times)\n",
    "        # rmsd_dictionary[\"rmsd\"].append(rmsds)\n",
    "\n",
    "        fig = plt.figure(figsize=(8, 8))\n",
    "        sns.set(context=\"notebook\", palette=\"colorblind\", style=\"ticks\", font_scale=2.)\n",
    "        ax = fig.add_subplot(111)\n",
    "        ax.plot(time, rmsd_values, \"k-\" #, label=f\"{stage} ligand {ligand_array[i]}\"\n",
    "        )\n",
    "        sns.despine()\n",
    "        # ax.legend()\n",
    "        ax.set_xlabel(\"time (ps)\")\n",
    "        ax.set_ylabel(r\"RMSD ($\\AA$)\")\n",
    "        # plt.savefig(f\"../../plots/rmsd/{stage}/rmsd_lig_{ligand_array[i]}.pdf\")\n",
    "\n",
    "    return times, rmsds\n"
   ]
  },
  {
   "cell_type": "code",
   "execution_count": 30,
   "metadata": {},
   "outputs": [
    {
     "name": "stdout",
     "output_type": "stream",
     "text": [
      "looking at ../outputs/SOMD/lig_h_1~lig_h_2/free/lambda_1.0000/\n",
      "looking at ../outputs/SOMD/lig_h_1~lig_h_3/free/lambda_1.0000/\n",
      "looking at ../outputs/SOMD/lig_h_1~lig_h_4/free/lambda_1.0000/\n",
      "looking at ../outputs/SOMD/lig_h_1~lig_h_5/free/lambda_1.0000/\n",
      "looking at ../outputs/SOMD/lig_h_1~lig_h_6/free/lambda_1.0000/\n",
      "looking at ../outputs/SOMD/lig_h_1~lig_h_7/free/lambda_1.0000/\n",
      "looking at ../outputs/SOMD/lig_h_1~lig_h_8/free/lambda_1.0000/\n",
      "looking at ../outputs/SOMD/lig_h_1~lig_h_9/free/lambda_1.0000/\n",
      "looking at ../outputs/SOMD/lig_h_1~lig_h_10/free/lambda_1.0000/\n",
      "looking at ../outputs/SOMD/lig_h_1~lig_h_11/free/lambda_1.0000/\n",
      "looking at ../outputs/SOMD/lig_h_1~lig_h_13/free/lambda_1.0000/\n",
      "looking at ../outputs/SOMD/lig_h_1~lig_h_14/free/lambda_1.0000/\n",
      "looking at ../outputs/SOMD/lig_h_1~lig_h_15/free/lambda_1.0000/\n",
      "looking at ../outputs/SOMD/lig_h_1~lig_h_16/free/lambda_1.0000/\n",
      "looking at ../outputs/SOMD/lig_h_1~lig_h_2/bound/lambda_1.0000/\n",
      "looking at ../outputs/SOMD/lig_h_1~lig_h_3/bound/lambda_1.0000/\n",
      "looking at ../outputs/SOMD/lig_h_1~lig_h_4/bound/lambda_1.0000/\n",
      "looking at ../outputs/SOMD/lig_h_1~lig_h_5/bound/lambda_1.0000/\n",
      "looking at ../outputs/SOMD/lig_h_1~lig_h_6/bound/lambda_1.0000/\n",
      "looking at ../outputs/SOMD/lig_h_1~lig_h_7/bound/lambda_1.0000/\n",
      "looking at ../outputs/SOMD/lig_h_1~lig_h_8/bound/lambda_1.0000/\n"
     ]
    },
    {
     "name": "stderr",
     "output_type": "stream",
     "text": [
      "/tmp/ipykernel_504147/2290241637.py:46: RuntimeWarning: More than 20 figures have been opened. Figures created through the pyplot interface (`matplotlib.pyplot.figure`) are retained until explicitly closed and may consume too much memory. (To control this warning, see the rcParam `figure.max_open_warning`).\n",
      "  fig = plt.figure(figsize=(8, 8))\n"
     ]
    },
    {
     "name": "stdout",
     "output_type": "stream",
     "text": [
      "looking at ../outputs/SOMD/lig_h_1~lig_h_9/bound/lambda_1.0000/\n"
     ]
    }
   ],
   "source": [
    "free_rmsds = get_rmsd(ligands, \"free\")[1]\n",
    "bound_rmsds = get_rmsd(ligands, \"bound\")[1]\n"
   ]
  },
  {
   "cell_type": "code",
   "execution_count": null,
   "metadata": {},
   "outputs": [],
   "source": [
    "fig = plt.figure(figsize=(8, 8))\n",
    "sns.set(context=\"notebook\", palette=\"colorblind\", style=\"ticks\", font_scale=2.)\n",
    "\n",
    "median_line_properties = dict(linestyle='-', linewidth=1.5, color=\"k\")\n",
    "box_properties = dict(alpha=0.8)\n",
    "\n",
    "xtick_positions = np.arange(1, len(ligands) + 1, 1)\n",
    "print(xtick_positions - 0.5)\n",
    "print(xtick_positions + 0.5)\n",
    "\n",
    "free_box = plt.boxplot(free_rmsds, boxprops=box_properties, patch_artist=True, medianprops=median_line_properties, positions=xtick_positions - 0.25/2, widths=0.25)\n",
    "bound_box = plt.boxplot(bound_rmsds, boxprops=box_properties, patch_artist=True, medianprops=median_line_properties, positions=xtick_positions + 0.25/2, widths=0.25)\n",
    "colours = [\"#F9A800\", \"#0099AB\"]\n",
    "rgba_colours = [(1, 1, 1),\n",
    "                (208/255, 0/255, 111/255)]\n",
    "\n",
    "for patch in free_box[\"boxes\"]:\n",
    "    patch.set_facecolor(rgba_colours[0])\n",
    "for patch in bound_box[\"boxes\"]:\n",
    "    patch.set_facecolor(rgba_colours[1])\n",
    "plt.xticks(ticks=xtick_positions, labels=ligands)\n",
    "plt.legend(handles=[free_box[\"boxes\"][0], bound_box[\"boxes\"][0]], labels=[\"Unbound\", \"Bound\"], frameon=False)\n",
    "# ax[1].set_xticks(ticks=xtick_positions, labels=ligands, fontsize=12)\n",
    "plt.xlabel(\"Ligand\")\n",
    "plt.ylabel(f\"RMSD ($\\AA$)\")\n",
    "sns.despine()\n",
    "fig.tight_layout()\n",
    "fig.subplots_adjust(wspace=0.05)\n",
    "plt.savefig(f\"../../plots/rmsd/box_plot_rmsd_comparison.pdf\")\n"
   ]
  },
  {
   "cell_type": "code",
   "execution_count": null,
   "metadata": {},
   "outputs": [],
   "source": []
  }
 ],
 "metadata": {
  "kernelspec": {
   "display_name": "Python 3.9.13 ('bss-d')",
   "language": "python",
   "name": "python3"
  },
  "language_info": {
   "codemirror_mode": {
    "name": "ipython",
    "version": 3
   },
   "file_extension": ".py",
   "mimetype": "text/x-python",
   "name": "python",
   "nbconvert_exporter": "python",
   "pygments_lexer": "ipython3",
   "version": "3.9.13"
  },
  "orig_nbformat": 4,
  "vscode": {
   "interpreter": {
    "hash": "f81d097606b2934fa8d1922533f78f64a436eb4cf1588d61ff1c0b79a2076e9c"
   }
  }
 },
 "nbformat": 4,
 "nbformat_minor": 2
}
