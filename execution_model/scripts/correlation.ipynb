{
 "cells": [
  {
   "cell_type": "code",
   "execution_count": 2,
   "metadata": {},
   "outputs": [],
   "source": [
    "import matplotlib.pyplot as plt\n",
    "import numpy as np\n",
    "import pandas as pd\n",
    "import seaborn as sns\n",
    "import scipy.stats\n",
    "import random"
   ]
  },
  {
   "cell_type": "markdown",
   "metadata": {},
   "source": [
    "Reference: https://github.com/alchemistry/alchemical-best-practices/blob/master/paper/figures/fig13_analysis_practices/gen_plots.py"
   ]
  },
  {
   "cell_type": "code",
   "execution_count": 13,
   "metadata": {},
   "outputs": [],
   "source": [
    "def bootstrap(x_data: np.ndarray, y_data: np.ndarray, n_bootstrap_samples=1000):\n",
    "    \"\"\"\n",
    "    compute pearson's r and mean from bootstrapped data to get confidence interval\n",
    "    \"\"\"\n",
    "    sample_size = len(x_data)\n",
    "    bootstrapped_samples = {\"r\": [],\n",
    "                            \"exp\": [],\n",
    "                            \"afe\": []}\n",
    "    for i in range(n_bootstrap_samples):\n",
    "        if i == 0:\n",
    "            x_samples = x_data\n",
    "            y_samples = y_data\n",
    "        else:\n",
    "            samples = np.random.choice(np.arange(sample_size), replace=True, size=n_bootstrap_samples)\n",
    "            x_samples = [x_data[i] for i in samples]\n",
    "            y_samples = [y_data[i] for i in samples]\n",
    "        pearson_r = scipy.stats.pearsonr(x_samples, y_samples)\n",
    "        bootstrapped_samples[\"r\"].append(pearson_r)\n",
    "        # mean_x = np.mean(x_samples)\n",
    "        # mean_y = np.mean(y_samples)\n",
    "        bootstrapped_samples[\"exp\"].append(np.asarray(x_samples))\n",
    "        bootstrapped_samples[\"afe\"].append(np.asarray(y_samples))\n",
    "    # bootstrap_df_tr = pd.DataFrame.from_dict(bootstrapped_samples, orient=\"index\")\n",
    "    # bootstrap_df = bootstrap_df_tr.transpose()\n",
    "    # melted_df  = bootstrap_df.melt()\n",
    "    # stats_df = melted_df.groupby(\"variable\", as_index=False).agg(mean=(\"value\", np.mean), \n",
    "    #                                                              lower_bound=(\"value\", lambda x: np.quantile(x, q=0.05)), \n",
    "    #                                                              upper_bound=(\"value\", lambda x: np.quantile(x, q=0.95)))\n",
    "    # results = {\"r\": {},\n",
    "    #            \"avg_exp\": {},\n",
    "    #            \"avg_afe\": {}}\n",
    "    # lower_limit = 0.05/2.0\n",
    "    # upper_limit = 1.0 - lower_limit\n",
    "    # results[\"r\"][\"real_value\"] = bootstrapped_samples[\"r\"][0]\n",
    "    # for key in bootstrapped_samples.keys():\n",
    "    #     ordered = bootstrapped_samples[key].sort()\n",
    "    #     results[key][\"lower_limit\"] = bootstrapped_samples[key][int(lower_limit*n_bootstrap_samples)]\n",
    "    #     results[key][\"upper_limit\"] = bootstrapped_samples[key][int(upper_limit*n_bootstrap_samples)]\n",
    "    return stats_df"
   ]
  },
  {
   "cell_type": "code",
   "execution_count": 15,
   "metadata": {},
   "outputs": [],
   "source": [
    "ddg_data = pd.read_csv(\"../outputs/free_energy/ddg_data.csv\")\n",
    "ddg_exp = ddg_data[\"ddg_exp\"].to_numpy()\n",
    "ddg_afe = ddg_data[\"ddg_afe\"].to_numpy()\n",
    "exp_err = ddg_data[\"ddg_exp_err\"].to_numpy()\n",
    "afe_err = ddg_data[\"ddg_afe_err\"].to_numpy()\n",
    "\n",
    "# bootstrap_result = bootstrap(ddg_exp, ddg_afe)\n",
    "# exp_lower_limit = bootstrap_result[\"avg_exp\"][\"lower_limit\"]\n",
    "# exp_upper_limit = bootstrap_result[\"avg_exp\"][\"upper_limit\"]\n",
    "# afe_lower_limit = bootstrap_result[\"avg_afe\"][\"lower_limit\"]\n",
    "# afe_upper_limit = bootstrap_result[\"avg_afe\"][\"upper_limit\"]"
   ]
  },
  {
   "cell_type": "code",
   "execution_count": 34,
   "metadata": {},
   "outputs": [],
   "source": [
    "n_bootstrap_samples = 1000\n",
    "sample_size = len(ddg_afe)\n",
    "x_samples, y_samples = [],[]\n",
    "for i in range(n_bootstrap_samples):\n",
    "    samples = np.random.choice(np.arange(sample_size), replace=True, size=n_bootstrap_samples)\n",
    "    x_samples.append([ddg_exp[i] for i in samples])\n",
    "    y_samples.append([ddg_afe[i] for i in samples])\n",
    "x_samples = np.array(x_samples)\n",
    "y_samples = np.array(y_samples)\n",
    "x_mean = np.mean(x_samples, axis=1)\n",
    "y_mean = np.mean(y_samples, axis=1)"
   ]
  },
  {
   "cell_type": "code",
   "execution_count": 27,
   "metadata": {},
   "outputs": [],
   "source": [
    "xdata = (x_samples, )\n",
    "ydata = (y_samples, )\n",
    "random_number_generator = np.random.default_rng(seed=1234)\n",
    "bootstrap_y = scipy.stats.bootstrap(ydata, np.mean, confidence_level=0.95, n_resamples=n_bootstrap_samples, random_state=random_number_generator)\n"
   ]
  },
  {
   "cell_type": "code",
   "execution_count": 25,
   "metadata": {},
   "outputs": [
    {
     "data": {
      "text/plain": [
       "1000"
      ]
     },
     "execution_count": 25,
     "metadata": {},
     "output_type": "execute_result"
    }
   ],
   "source": [
    "len(bootstrap_y.confidence_interval[0])"
   ]
  },
  {
   "cell_type": "code",
   "execution_count": 86,
   "metadata": {},
   "outputs": [
    {
     "name": "stderr",
     "output_type": "stream",
     "text": [
      "/home/jguven/Software/miniconda3/envs/bss-d/lib/python3.9/site-packages/numpy/lib/function_base.py:5071: VisibleDeprecationWarning: Creating an ndarray from ragged nested sequences (which is a list-or-tuple of lists-or-tuples-or ndarrays with different lengths or shapes) is deprecated. If you meant to do this, you must specify 'dtype=object' when creating the ndarray.\n",
      "  arr = asarray(arr)\n"
     ]
    }
   ],
   "source": [
    "afe_bootstrapped = np.delete(bootstrap_result[\"afe\"], 0)\n",
    "exp_bootstrapped = np.delete(bootstrap_result[\"exp\"], 0)\n",
    "cl_dict = {\"afe_mean\": [],\n",
    "           \"exp_mean\": [],\n",
    "           \"lower_limit\": [],\n",
    "           \"upper_limit\": []}\n",
    "for i in range(len(afe_bootstrapped)):\n",
    "    afe_value_sorted = np.sort(afe_bootstrapped[i])\n",
    "    exp_value_sorted = np.sort(exp_bootstrapped[i])\n",
    "    mean_of_afe_sample = np.mean(afe_value_sorted)\n",
    "    mean_of_exp_sample = np.mean(exp_value_sorted)\n",
    "    lower_quantile = np.quantile(afe_bootstrapped[i], q=0.05)\n",
    "    upper_quantile = np.quantile(afe_bootstrapped[i], q=0.95)\n",
    "    cl_dict[\"afe_mean\"].append(mean_of_afe_sample)\n",
    "    cl_dict[\"exp_mean\"].append(mean_of_exp_sample)\n",
    "    cl_dict[\"lower_limit\"].append(lower_quantile)\n",
    "    cl_dict[\"upper_limit\"].append(upper_quantile)\n",
    "\n",
    "afe_mean = np.asarray(cl_dict[\"afe_mean\"])\n",
    "exp_mean = np.asarray(cl_dict[\"exp_mean\"])\n"
   ]
  },
  {
   "cell_type": "code",
   "execution_count": 33,
   "metadata": {},
   "outputs": [
    {
     "data": {
      "text/plain": [
       "1000"
      ]
     },
     "execution_count": 33,
     "metadata": {},
     "output_type": "execute_result"
    }
   ],
   "source": [
    "len(bootstrap_y.confidence_interval[1])"
   ]
  },
  {
   "cell_type": "code",
   "execution_count": 39,
   "metadata": {},
   "outputs": [
    {
     "data": {
      "text/plain": [
       "<matplotlib.collections.PolyCollection at 0x7f95eb89a8e0>"
      ]
     },
     "execution_count": 39,
     "metadata": {},
     "output_type": "execute_result"
    },
    {
     "data": {
      "image/png": "[encoded data removed]",
      "text/plain": [
       "<Figure size 432x288 with 1 Axes>"
      ]
     },
     "metadata": {
      "needs_background": "light"
     },
     "output_type": "display_data"
    }
   ],
   "source": [
    "plt.scatter(ddg_exp, ddg_afe)\n",
    "# mean_afe = np.mean(ddg_afe)\n",
    "plt.fill_between([min(ddg_exp), max(ddg_exp)], [min(ddg_afe)+1.0, max(ddg_afe)+1.0], [min(ddg_afe)-1.0, max(ddg_afe)-1.0])"
   ]
  },
  {
   "cell_type": "code",
   "execution_count": 53,
   "metadata": {},
   "outputs": [
    {
     "data": {
      "image/png": "[encoded data removed]",
      "text/plain": [
       "<Figure size 720x720 with 1 Axes>"
      ]
     },
     "metadata": {},
     "output_type": "display_data"
    }
   ],
   "source": [
    "fig = plt.figure(figsize=(10, 10))\n",
    "ax = fig.add_subplot()\n",
    "sns.set(context=\"notebook\", palette=\"colorblind\", style=\"ticks\", font_scale=1.8)\n",
    "ax.scatter(ddg_exp, ddg_afe, marker=\"x\", color=\"#0099AB\")\n",
    "ax.scatter(3, 2.5, s=0)\n",
    "(_, caps, _) = ax.errorbar(ddg_exp,\n",
    "                            ddg_afe,\n",
    "                            color=\"#0099AB\",\n",
    "                            yerr=afe_err,\n",
    "                            capsize=3,\n",
    "                            linestyle=\"\",\n",
    "                            zorder=-1)\n",
    "        \n",
    "plt.fill_between([-4.5,3], \n",
    "                 [min(ddg_afe)+1.0, max(ddg_afe)+1.0], \n",
    "                 [min(ddg_afe)-1.0, max(ddg_afe)-1.0],\n",
    "                 color=\"grey\",\n",
    "                 alpha=0.5,\n",
    "                 zorder=-1,\n",
    "                 linewidth=0,\n",
    "                 label=r\"$\\pm$ 1 kcal mol$^{-1}$\")\n",
    "ax.spines[\"left\"].set_position(\"zero\")\n",
    "ax.spines[\"bottom\"].set_position(\"zero\")\n",
    "ax.spines[\"right\"].set_linewidth(0.0)\n",
    "ax.spines[\"top\"].set_linewidth(0.0)\n",
    "ax.set_xlim(-4.6, 3.1)\n",
    "ax.text(0.25, -0.6, s=r\"$\\Delta\\Delta$ G$_{\\mathrm{EXP}}$ (kcal mol$^{-1}$)\")\n",
    "ax.text(-0.725, 0.25, s=r\"$\\Delta\\Delta$ G$_{\\mathrm{AFE}}$ (kcal mol$^{-1}$)\", rotation=\"vertical\")\n",
    "fig.tight_layout()\n",
    "fig.savefig(\"../../plots/free_energy/correlation.pdf\")\n",
    "\n"
   ]
  },
  {
   "cell_type": "code",
   "execution_count": 27,
   "metadata": {},
   "outputs": [
    {
     "data": {
      "text/plain": [
       "(0.6674936193034686, 0.017707030166272474)"
      ]
     },
     "execution_count": 27,
     "metadata": {},
     "output_type": "execute_result"
    }
   ],
   "source": [
    "pearson_r = scipy.stats.pearsonr(ddg_exp, ddg_afe)\n",
    "pearson_r"
   ]
  },
  {
   "cell_type": "code",
   "execution_count": null,
   "metadata": {},
   "outputs": [],
   "source": []
  }
 ],
 "metadata": {
  "kernelspec": {
   "display_name": "Python 3.9.13 ('bss-d')",
   "language": "python",
   "name": "python3"
  },
  "language_info": {
   "codemirror_mode": {
    "name": "ipython",
    "version": 3
   },
   "file_extension": ".py",
   "mimetype": "text/x-python",
   "name": "python",
   "nbconvert_exporter": "python",
   "pygments_lexer": "ipython3",
   "version": "3.9.13"
  },
  "orig_nbformat": 4,
  "vscode": {
   "interpreter": {
    "hash": "f81d097606b2934fa8d1922533f78f64a436eb4cf1588d61ff1c0b79a2076e9c"
   }
  }
 },
 "nbformat": 4,
 "nbformat_minor": 2
}
