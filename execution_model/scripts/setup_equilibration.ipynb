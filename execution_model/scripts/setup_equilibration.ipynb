{
 "cells": [
  {
   "cell_type": "code",
   "execution_count": 42,
   "id": "f844df55-ef80-4659-ae61-99f7eac9e78a",
   "metadata": {},
   "outputs": [],
   "source": [
    "import BioSimSpace as bss\n",
    "import numpy as np\n",
    "import os"
   ]
  },
  {
   "cell_type": "code",
   "execution_count": 31,
   "id": "58907b80-36bf-4b04-96b2-638ca4895b46",
   "metadata": {},
   "outputs": [],
   "source": [
    "#working_ligands = [3, 4, 5, 6, 7, 8, 10, 11, 13, 15]"
   ]
  },
  {
   "cell_type": "code",
   "execution_count": 20,
   "id": "175b3254-77b8-4e6c-a89e-2f4f142bf6b3",
   "metadata": {},
   "outputs": [],
   "source": [
    "#ligand = bss.IO.readMolecules([lig_gro_path+str(3)+\"/npt.gro\",\n",
    "#                               lig_top_path+str(3)+\"_ligand_solvated.top\"])"
   ]
  },
  {
   "cell_type": "markdown",
   "id": "1229d51e-940b-477a-bd87-196ad3bd71a6",
   "metadata": {},
   "source": [
    "# MDRUN Options"
   ]
  },
  {
   "cell_type": "code",
   "execution_count": 32,
   "id": "97bfadd7-0e83-4721-853a-fcbd7b30a52e",
   "metadata": {
    "tags": []
   },
   "outputs": [],
   "source": [
    "minimisation_steps = 500\n",
    "runtime_short_nvt = 5  # ps\n",
    "runtime_nvt = 50  # ps\n",
    "runtime_npt = 200  # ps"
   ]
  },
  {
   "cell_type": "markdown",
   "id": "5669cb97-c4e5-452d-937d-351906543264",
   "metadata": {},
   "source": [
    "# Files"
   ]
  },
  {
   "cell_type": "code",
   "execution_count": 37,
   "id": "c3e6f5fb-1b38-4696-b834-591b0512db03",
   "metadata": {},
   "outputs": [],
   "source": [
    "indices = np.arange(0, 16, 1)\n",
    "indices\n",
    "index=indices[0]"
   ]
  },
  {
   "cell_type": "code",
   "execution_count": 52,
   "id": "80e42959-aea7-43b4-b4fe-06538aa1f7c7",
   "metadata": {},
   "outputs": [
    {
     "name": "stdout",
     "output_type": "stream",
     "text": [
      "lig_h_8\n",
      "lig_h_4\n",
      "lig_h_13\n",
      "lig_h_16\n",
      "lig_h_9\n",
      "lig_h_6\n",
      "lig_h_15\n",
      "lig_h_10\n",
      "lig_h_7\n",
      "lig_h_12\n",
      "lig_h_3\n",
      "lig_h_1\n",
      "lig_h_5\n",
      "lig_h_2\n",
      "lig_h_14\n",
      "lig_h_11\n"
     ]
    }
   ],
   "source": [
    "for index in indices:\n",
    "    ligand_stream = open(\"../ligands.dat\", \"r\")\n",
    "    ligand_lines = ligand_stream.readlines()\n",
    "    ligand_name = ligand_lines[index].rstrip()\n",
    "    print(ligand_name)"
   ]
  },
  {
   "cell_type": "code",
   "execution_count": 40,
   "id": "d565d6cb-3b7a-43b9-95a3-18d484498029",
   "metadata": {},
   "outputs": [],
   "source": [
    "ligand_solvated = bss.IO.readMolecules([f\"../inputs/ligands/{ligand_name}_ligand_solvated.prm7\",\n",
    "                                        f\"../inputs/ligands/{ligand_name}_ligand_solvated.rst7\"])\n",
    "system_solvated = bss.IO.readMolecules([f\"../inputs/ligands/{ligand_name}_system_solvated.prm7\",\n",
    "                                        f\"../inputs/ligands/{ligand_name}_system_solvated.rst7\"])"
   ]
  },
  {
   "cell_type": "code",
   "execution_count": null,
   "id": "064f80ad-aa4f-4c0a-a0db-682c10ae3d59",
   "metadata": {},
   "outputs": [
    {
     "data": {
      "text/plain": [
       "BioSimSpace._SireWrappers._system.System"
      ]
     },
     "execution_count": 54,
     "metadata": {},
     "output_type": "execute_result"
    }
   ],
   "source": []
  },
  {
   "cell_type": "markdown",
   "id": "481b0ce0-f421-4043-ab52-d9dd70c57ac7",
   "metadata": {},
   "source": [
    "# Minimisation"
   ]
  },
  {
   "cell_type": "code",
   "execution_count": 49,
   "id": "c920dbaf-be07-48ad-95e8-227fe697cfda",
   "metadata": {},
   "outputs": [
    {
     "data": {
      "text/plain": [
       "0"
      ]
     },
     "execution_count": 49,
     "metadata": {},
     "output_type": "execute_result"
    }
   ],
   "source": [
    "os.system(f\"mkdir -p equilibration/ligands/{ligand_name}\")"
   ]
  },
  {
   "cell_type": "code",
   "execution_count": 50,
   "id": "aa249638-fe51-4cc6-9cdf-85168a5d0210",
   "metadata": {},
   "outputs": [],
   "source": [
    "lig_min_dir = f\"equilibration/ligands/{ligand_name}\""
   ]
  },
  {
   "cell_type": "code",
   "execution_count": 58,
   "id": "4df2dd94-b78a-45ef-905c-458187f1d819",
   "metadata": {},
   "outputs": [],
   "source": [
    "protocol = bss.Protocol.Minimisation(steps=minimisation_steps)\n",
    "minimised_process = bss.Process.Gromacs(ligand_solvated, \n",
    "                                        protocol, \n",
    "                                        name=\"minim\",\n",
    "                                        work_dir=lig_min_dir)"
   ]
  },
  {
   "cell_type": "markdown",
   "id": "6c65422d-b515-4609-b2cd-c77f163948f1",
   "metadata": {},
   "source": [
    "# "
   ]
  },
  {
   "cell_type": "code",
   "execution_count": 59,
   "id": "eddf6c9e-9200-4e26-b402-3f7af38cc44f",
   "metadata": {},
   "outputs": [
    {
     "data": {
      "text/plain": [
       "BioSimSpace.Protocol._minimisation.Minimisation"
      ]
     },
     "execution_count": 59,
     "metadata": {},
     "output_type": "execute_result"
    }
   ],
   "source": [
    "type(protocol)"
   ]
  },
  {
   "cell_type": "code",
   "execution_count": null,
   "id": "db361966-8bb3-4706-985b-948d24eb3216",
   "metadata": {},
   "outputs": [],
   "source": []
  }
 ],
 "metadata": {
  "kernelspec": {
   "display_name": "Python 3 (ipykernel)",
   "language": "python",
   "name": "python3"
  },
  "language_info": {
   "codemirror_mode": {
    "name": "ipython",
    "version": 3
   },
   "file_extension": ".py",
   "mimetype": "text/x-python",
   "name": "python",
   "nbconvert_exporter": "python",
   "pygments_lexer": "ipython3",
   "version": "3.9.13"
  }
 },
 "nbformat": 4,
 "nbformat_minor": 5
}
