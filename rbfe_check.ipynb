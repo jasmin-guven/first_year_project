{
 "cells": [
  {
   "cell_type": "code",
   "execution_count": 1,
   "id": "457d7eda-08e7-4358-899a-4cae148686e3",
   "metadata": {},
   "outputs": [
    {
     "name": "stdout",
     "output_type": "stream",
     "text": [
      "\n",
      "==============================================================\n",
      "Sending anonymous Sire usage statistics to http://siremol.org.\n",
      "For more information, see http://siremol.org/analytics\n",
      "To disable, set the environment variable 'SIRE_DONT_PHONEHOME' to 1\n",
      "To see the information sent, set the environment variable \n",
      "SIRE_VERBOSE_PHONEHOME equal to 1. To silence this message, set\n",
      "the environment variable SIRE_SILENT_PHONEHOME to 1.\n",
      "==============================================================\n",
      "\n"
     ]
    },
    {
     "name": "stderr",
     "output_type": "stream",
     "text": [
      "/home/jguven/Software/miniconda3/envs/bss-d/lib/python3.9/site-packages/numpy/core/getlimits.py:499: UserWarning: The value of the smallest subnormal for <class 'numpy.float64'> type is zero.\n",
      "  setattr(self, word, getattr(machar, word).flat[0])\n",
      "/home/jguven/Software/miniconda3/envs/bss-d/lib/python3.9/site-packages/numpy/core/getlimits.py:89: UserWarning: The value of the smallest subnormal for <class 'numpy.float64'> type is zero.\n",
      "  return self._float_to_str(self.smallest_subnormal)\n",
      "/home/jguven/Software/miniconda3/envs/bss-d/lib/python3.9/site-packages/numpy/core/getlimits.py:499: UserWarning: The value of the smallest subnormal for <class 'numpy.float32'> type is zero.\n",
      "  setattr(self, word, getattr(machar, word).flat[0])\n",
      "/home/jguven/Software/miniconda3/envs/bss-d/lib/python3.9/site-packages/numpy/core/getlimits.py:89: UserWarning: The value of the smallest subnormal for <class 'numpy.float32'> type is zero.\n",
      "  return self._float_to_str(self.smallest_subnormal)\n",
      "Warning: importing 'simtk.openmm' is deprecated.  Import 'openmm' instead.\n"
     ]
    }
   ],
   "source": [
    "import BioSimSpace as bss"
   ]
  },
  {
   "cell_type": "code",
   "execution_count": 21,
   "id": "8b3d63c1-b90d-4120-ae60-831debf9a6f6",
   "metadata": {},
   "outputs": [],
   "source": [
    "from Sire.Base import getShareDir as _getShareDir\n",
    "import os as _os\n",
    "import subprocess as _subprocess\n",
    "import shlex as _shlex\n",
    "_analyse_freenrg = _os.path.join(_os.path.normpath(_getShareDir()), \"scripts\", \"analyse_freenrg.py\")"
   ]
  },
  {
   "cell_type": "code",
   "execution_count": 22,
   "id": "6275e303-a356-419c-b795-3c1368c153dd",
   "metadata": {},
   "outputs": [
    {
     "data": {
      "text/plain": [
       "'/home/jguven/Software/miniconda3/envs/bss-d/share/Sire/scripts/analyse_freenrg.py'"
      ]
     },
     "execution_count": 22,
     "metadata": {},
     "output_type": "execute_result"
    }
   ],
   "source": [
    "_analyse_freenrg"
   ]
  },
  {
   "cell_type": "code",
   "execution_count": 2,
   "id": "dfff7920-9a29-4a54-8e05-8ae6f588a6d7",
   "metadata": {},
   "outputs": [
    {
     "data": {
      "text/plain": [
       "'execution_model/outputs/SOMD/lig_h_1~lig_h_15/free'"
      ]
     },
     "execution_count": 2,
     "metadata": {},
     "output_type": "execute_result"
    }
   ],
   "source": [
    "path = f\"execution_model/outputs/SOMD/lig_h_1~lig_h_15/\"\n",
    "work_dir = path+\"free\"\n",
    "work_dir"
   ]
  },
  {
   "cell_type": "code",
   "execution_count": 39,
   "id": "8148832f-d98c-4ca3-a40d-62481536ad5a",
   "metadata": {},
   "outputs": [],
   "source": [
    "#!chmod 755 /home/jguven/Software/miniconda3/envs/bss-d/share/Sire/scripts/analyse_freenrg.py"
   ]
  },
  {
   "cell_type": "code",
   "execution_count": 19,
   "id": "3c65392e-3375-450f-bc6d-8880157ec46c",
   "metadata": {},
   "outputs": [
    {
     "ename": "NameError",
     "evalue": "name '_analyse_freenrg' is not defined",
     "output_type": "error",
     "traceback": [
      "\u001b[0;31m---------------------------------------------------------------------------\u001b[0m",
      "\u001b[0;31mNameError\u001b[0m                                 Traceback (most recent call last)",
      "Input \u001b[0;32mIn [19]\u001b[0m, in \u001b[0;36m<cell line: 1>\u001b[0;34m()\u001b[0m\n\u001b[0;32m----> 1\u001b[0m command \u001b[38;5;241m=\u001b[39m \u001b[38;5;124mf\u001b[39m\u001b[38;5;124m\"\u001b[39m\u001b[38;5;124mpython \u001b[39m\u001b[38;5;132;01m{\u001b[39;00m_analyse_freenrg\u001b[38;5;132;01m}\u001b[39;00m\u001b[38;5;124m mbar -i \u001b[39m\u001b[38;5;132;01m{\u001b[39;00mwork_dir\u001b[38;5;132;01m}\u001b[39;00m\u001b[38;5;124m/lambda_*/simfile.dat -o \u001b[39m\u001b[38;5;132;01m{\u001b[39;00mwork_dir\u001b[38;5;132;01m}\u001b[39;00m\u001b[38;5;124m/mbar.txt --overlap --subsampling\u001b[39m\u001b[38;5;124m\"\u001b[39m\n",
      "\u001b[0;31mNameError\u001b[0m: name '_analyse_freenrg' is not defined"
     ]
    }
   ],
   "source": [
    "command = f\"python {_analyse_freenrg} mbar -i {work_dir}/lambda_*/simfile.dat -o {work_dir}/mbar.txt --overlap --subsampling\" \n",
    "\n",
    "# Run the first command.\n",
    "#proc = _subprocess.run(_shlex.split(command), shell=False, stdout=_subprocess.PIPE, stderr=_subprocess.PIPE)"
   ]
  },
  {
   "cell_type": "code",
   "execution_count": 18,
   "id": "9b7d18c1-33fe-46d9-b9b3-371733dd7d3c",
   "metadata": {},
   "outputs": [
    {
     "ename": "NameError",
     "evalue": "name 'command' is not defined",
     "output_type": "error",
     "traceback": [
      "\u001b[0;31m---------------------------------------------------------------------------\u001b[0m",
      "\u001b[0;31mNameError\u001b[0m                                 Traceback (most recent call last)",
      "Input \u001b[0;32mIn [18]\u001b[0m, in \u001b[0;36m<cell line: 1>\u001b[0;34m()\u001b[0m\n\u001b[0;32m----> 1\u001b[0m \u001b[43mcommand\u001b[49m\n",
      "\u001b[0;31mNameError\u001b[0m: name 'command' is not defined"
     ]
    }
   ],
   "source": [
    "command"
   ]
  },
  {
   "cell_type": "code",
   "execution_count": 16,
   "id": "471383d5-217e-46b7-9ced-782dba0bfe7d",
   "metadata": {},
   "outputs": [
    {
     "data": {
      "text/plain": [
       "[(0.0, 0.0000e+00 kcal/mol, 0.0000e+00 kcal/mol),\n",
       " (0.1, -1.4802 kcal/mol, 0.0289 kcal/mol),\n",
       " (0.2, -2.1818 kcal/mol, 0.0421 kcal/mol),\n",
       " (0.3, -2.4574 kcal/mol, 0.0501 kcal/mol),\n",
       " (0.4, -2.5751 kcal/mol, 0.0567 kcal/mol),\n",
       " (0.5, -2.6437 kcal/mol, 0.0622 kcal/mol),\n",
       " (0.6, -2.7121 kcal/mol, 0.0676 kcal/mol),\n",
       " (0.7, -2.8381 kcal/mol, 0.0729 kcal/mol),\n",
       " (0.8, -2.9944 kcal/mol, 0.0778 kcal/mol),\n",
       " (0.9, -3.1256 kcal/mol, 0.0826 kcal/mol),\n",
       " (1.0, -3.2331 kcal/mol, 0.0874 kcal/mol)]"
      ]
     },
     "execution_count": 16,
     "metadata": {},
     "output_type": "execute_result"
    }
   ],
   "source": [
    "path = f\"execution_model/outputs/SOMD/lig_h_1~lig_h_4/\"\n",
    "free_dir = path+\"free/\"\n",
    "pmf_free, om_f = bss.FreeEnergy.Relative.analyse(free_dir)\n",
    "pmf_free"
   ]
  },
  {
   "cell_type": "code",
   "execution_count": 23,
   "id": "0ed79313-1836-43fc-87f4-1e097ae4df13",
   "metadata": {},
   "outputs": [
    {
     "name": "stdout",
     "output_type": "stream",
     "text": [
      "execution_model/outputs/SOMD/lig_h_1~lig_h_8/bound/\n"
     ]
    },
    {
     "ename": "AnalysisError",
     "evalue": "SOMD free-energy analysis failed!",
     "output_type": "error",
     "traceback": [
      "\u001b[0;31m---------------------------------------------------------------------------\u001b[0m",
      "\u001b[0;31mAnalysisError\u001b[0m                             Traceback (most recent call last)",
      "Input \u001b[0;32mIn [23]\u001b[0m, in \u001b[0;36m<cell line: 4>\u001b[0;34m()\u001b[0m\n\u001b[1;32m      2\u001b[0m bound_dir \u001b[38;5;241m=\u001b[39m path\u001b[38;5;241m+\u001b[39m\u001b[38;5;124m\"\u001b[39m\u001b[38;5;124mbound/\u001b[39m\u001b[38;5;124m\"\u001b[39m\n\u001b[1;32m      3\u001b[0m \u001b[38;5;28mprint\u001b[39m(bound_dir)\n\u001b[0;32m----> 4\u001b[0m pmf_bound, om_b \u001b[38;5;241m=\u001b[39m \u001b[43mbss\u001b[49m\u001b[38;5;241;43m.\u001b[39;49m\u001b[43mFreeEnergy\u001b[49m\u001b[38;5;241;43m.\u001b[39;49m\u001b[43mRelative\u001b[49m\u001b[38;5;241;43m.\u001b[39;49m\u001b[43manalyse\u001b[49m\u001b[43m(\u001b[49m\u001b[43mbound_dir\u001b[49m\u001b[43m)\u001b[49m\n",
      "File \u001b[0;32m~/Software/miniconda3/envs/bss-d/lib/python3.9/site-packages/BioSimSpace/FreeEnergy/_relative.py:389\u001b[0m, in \u001b[0;36mRelative.analyse\u001b[0;34m(work_dir)\u001b[0m\n\u001b[1;32m    387\u001b[0m \u001b[38;5;66;03m# SOMD.\u001b[39;00m\n\u001b[1;32m    388\u001b[0m \u001b[38;5;28;01mif\u001b[39;00m \u001b[38;5;28mlen\u001b[39m(data) \u001b[38;5;241m>\u001b[39m \u001b[38;5;241m0\u001b[39m:\n\u001b[0;32m--> 389\u001b[0m     \u001b[38;5;28;01mreturn\u001b[39;00m \u001b[43mRelative\u001b[49m\u001b[38;5;241;43m.\u001b[39;49m\u001b[43m_analyse_somd\u001b[49m\u001b[43m(\u001b[49m\u001b[43mwork_dir\u001b[49m\u001b[43m)\u001b[49m\n\u001b[1;32m    391\u001b[0m \u001b[38;5;66;03m# Now check for GROMACS output.\u001b[39;00m\n\u001b[1;32m    392\u001b[0m \u001b[38;5;28;01melse\u001b[39;00m:\n\u001b[1;32m    393\u001b[0m     data \u001b[38;5;241m=\u001b[39m _glob(work_dir \u001b[38;5;241m+\u001b[39m \u001b[38;5;124m\"\u001b[39m\u001b[38;5;124m/lambda_*/gromacs.xvg\u001b[39m\u001b[38;5;124m\"\u001b[39m)\n",
      "File \u001b[0;32m~/Software/miniconda3/envs/bss-d/lib/python3.9/site-packages/BioSimSpace/FreeEnergy/_relative.py:535\u001b[0m, in \u001b[0;36mRelative._analyse_somd\u001b[0;34m(work_dir)\u001b[0m\n\u001b[1;32m    532\u001b[0m proc \u001b[38;5;241m=\u001b[39m _subprocess\u001b[38;5;241m.\u001b[39mrun(_shlex\u001b[38;5;241m.\u001b[39msplit(command), shell\u001b[38;5;241m=\u001b[39m\u001b[38;5;28;01mFalse\u001b[39;00m,\n\u001b[1;32m    533\u001b[0m     stdout\u001b[38;5;241m=\u001b[39m_subprocess\u001b[38;5;241m.\u001b[39mPIPE, stderr\u001b[38;5;241m=\u001b[39m_subprocess\u001b[38;5;241m.\u001b[39mPIPE)\n\u001b[1;32m    534\u001b[0m \u001b[38;5;28;01mif\u001b[39;00m proc\u001b[38;5;241m.\u001b[39mreturncode \u001b[38;5;241m!=\u001b[39m \u001b[38;5;241m0\u001b[39m:\n\u001b[0;32m--> 535\u001b[0m     \u001b[38;5;28;01mraise\u001b[39;00m _AnalysisError(\u001b[38;5;124m\"\u001b[39m\u001b[38;5;124mSOMD free-energy analysis failed!\u001b[39m\u001b[38;5;124m\"\u001b[39m)\n\u001b[1;32m    537\u001b[0m \u001b[38;5;66;03m# Re-run without subsampling if the subsampling has resulted in less than 50 samples.\u001b[39;00m\n\u001b[1;32m    538\u001b[0m \u001b[38;5;28;01mwith\u001b[39;00m \u001b[38;5;28mopen\u001b[39m(\u001b[38;5;124m\"\u001b[39m\u001b[38;5;132;01m%s\u001b[39;00m\u001b[38;5;124m/mbar.txt\u001b[39m\u001b[38;5;124m\"\u001b[39m \u001b[38;5;241m%\u001b[39m work_dir) \u001b[38;5;28;01mas\u001b[39;00m file:\n",
      "\u001b[0;31mAnalysisError\u001b[0m: SOMD free-energy analysis failed!"
     ]
    }
   ],
   "source": [
    "path = f\"execution_model/outputs/SOMD/lig_h_1~lig_h_8/\"\n",
    "bound_dir = path+\"bound/\"\n",
    "print(bound_dir)\n",
    "pmf_bound, om_b = bss.FreeEnergy.Relative.analyse(bound_dir)"
   ]
  },
  {
   "cell_type": "code",
   "execution_count": 6,
   "id": "515ef42e-7c15-483f-b56d-118a1b3a7bbd",
   "metadata": {},
   "outputs": [
    {
     "ename": "NameError",
     "evalue": "name 'pmf_free' is not defined",
     "output_type": "error",
     "traceback": [
      "\u001b[0;31m---------------------------------------------------------------------------\u001b[0m",
      "\u001b[0;31mNameError\u001b[0m                                 Traceback (most recent call last)",
      "Input \u001b[0;32mIn [6]\u001b[0m, in \u001b[0;36m<cell line: 1>\u001b[0;34m()\u001b[0m\n\u001b[0;32m----> 1\u001b[0m freenrg \u001b[38;5;241m=\u001b[39m bss\u001b[38;5;241m.\u001b[39mFreeEnergy\u001b[38;5;241m.\u001b[39mRelative\u001b[38;5;241m.\u001b[39mdifference(pmf_bound, \u001b[43mpmf_free\u001b[49m)\n\u001b[1;32m      2\u001b[0m freenrg_val \u001b[38;5;241m=\u001b[39m \u001b[38;5;28mround\u001b[39m(freenrg[\u001b[38;5;241m0\u001b[39m]\u001b[38;5;241m.\u001b[39mvalue(), \u001b[38;5;241m4\u001b[39m)\n\u001b[1;32m      3\u001b[0m freenrg_err \u001b[38;5;241m=\u001b[39m \u001b[38;5;28mround\u001b[39m(freenrg[\u001b[38;5;241m1\u001b[39m]\u001b[38;5;241m.\u001b[39mvalue(), \u001b[38;5;241m4\u001b[39m)\n",
      "\u001b[0;31mNameError\u001b[0m: name 'pmf_free' is not defined"
     ]
    }
   ],
   "source": [
    "freenrg = bss.FreeEnergy.Relative.difference(pmf_bound, pmf_free)\n",
    "freenrg_val = round(freenrg[0].value(), 4)\n",
    "freenrg_err = round(freenrg[1].value(), 4)"
   ]
  },
  {
   "cell_type": "code",
   "execution_count": 86,
   "id": "007874ef-1b1a-46e6-a5f0-36675845c6ae",
   "metadata": {},
   "outputs": [],
   "source": [
    "def get_ti_pmf(full_path: str):\n",
    "    \"\"\"\n",
    "    @param full_path: to mbar.txt file\n",
    "    @return TI pmf values as a list of tuples\n",
    "    \"\"\"\n",
    "    with open(full_path) as file:\n",
    "        lines = file.readlines()\n",
    "    \n",
    "    first_index = 0\n",
    "    last_index = 0\n",
    "    for i in range(len(lines)):\n",
    "        if \"#PMF from TI in kcal/mol\" in lines[i]:\n",
    "            first_index = i + 1\n",
    "        elif \"#MBAR free energy difference in kcal/mol: \" in lines[i]:\n",
    "            last_index = i \n",
    "    messy = lines[first_index:last_index]\n",
    "    ti_pmf = []\n",
    "    for line in messy:\n",
    "        new_line = line.split()\n",
    "        lambda_value = float(new_line[0])\n",
    "        energy_value = bss.Types.Energy(float(new_line[1]), \"kcal/mol\")\n",
    "        error = bss.Types.Energy(0, \"kcal/mol\")\n",
    "        tuple_line = (lambda_value, energy_value, error)\n",
    "        ti_pmf.append(tuple_line)\n",
    "    return ti_pmf\n"
   ]
  },
  {
   "cell_type": "code",
   "execution_count": 87,
   "id": "1c5cd128-5a99-411f-bd64-0cf11602c265",
   "metadata": {},
   "outputs": [],
   "source": [
    "free_path = \"execution_model/outputs/SOMD/lig_h_1~lig_h_10/free/mbar.txt\"\n",
    "bound_path = \"execution_model/outputs/SOMD/lig_h_1~lig_h_10/bound/mbar.txt\""
   ]
  },
  {
   "cell_type": "code",
   "execution_count": 88,
   "id": "4a8ea9a8-a22d-485b-ad0a-f46795943147",
   "metadata": {},
   "outputs": [],
   "source": [
    "free_pmf = get_ti_pmf(free_path)\n",
    "bound_pmf = get_ti_pmf(bound_path)"
   ]
  },
  {
   "cell_type": "code",
   "execution_count": 89,
   "id": "a109a096-70b9-47b2-936f-6b0d2ae9c65e",
   "metadata": {},
   "outputs": [],
   "source": [
    "free_energy = bss.FreeEnergy.Relative.difference(bound_pmf, free_pmf)"
   ]
  },
  {
   "cell_type": "code",
   "execution_count": 93,
   "id": "6632d01c-35a9-4252-a263-88e079664b1e",
   "metadata": {},
   "outputs": [],
   "source": [
    "free_energy_value = free_energy[0]\n",
    "free_energy_error = round(free_energy[1].value(), 4)"
   ]
  },
  {
   "cell_type": "code",
   "execution_count": 94,
   "id": "13fac2e1-8622-48c6-aa4c-fdc176f75e4d",
   "metadata": {},
   "outputs": [
    {
     "data": {
      "text/plain": [
       "0.0000e+00 kcal/mol"
      ]
     },
     "execution_count": 94,
     "metadata": {},
     "output_type": "execute_result"
    }
   ],
   "source": [
    "free_energy_value"
   ]
  },
  {
   "cell_type": "code",
   "execution_count": null,
   "id": "b0c2376b-841a-4801-9556-19c7ef303a8e",
   "metadata": {},
   "outputs": [],
   "source": []
  }
 ],
 "metadata": {
  "kernelspec": {
   "display_name": "Python 3 (ipykernel)",
   "language": "python",
   "name": "python3"
  },
  "language_info": {
   "codemirror_mode": {
    "name": "ipython",
    "version": 3
   },
   "file_extension": ".py",
   "mimetype": "text/x-python",
   "name": "python",
   "nbconvert_exporter": "python",
   "pygments_lexer": "ipython3",
   "version": "3.9.12"
  }
 },
 "nbformat": 4,
 "nbformat_minor": 5
}
