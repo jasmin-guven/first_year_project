{
 "cells": [
  {
   "cell_type": "code",
   "execution_count": 1,
   "id": "457d7eda-08e7-4358-899a-4cae148686e3",
   "metadata": {},
   "outputs": [
    {
     "name": "stderr",
     "output_type": "stream",
     "text": [
      "/home/jguven/Software/miniconda3/envs/bss-d/lib/python3.9/site-packages/numpy/core/getlimits.py:499: UserWarning: The value of the smallest subnormal for <class 'numpy.float64'> type is zero.\n",
      "  setattr(self, word, getattr(machar, word).flat[0])\n",
      "/home/jguven/Software/miniconda3/envs/bss-d/lib/python3.9/site-packages/numpy/core/getlimits.py:89: UserWarning: The value of the smallest subnormal for <class 'numpy.float64'> type is zero.\n",
      "  return self._float_to_str(self.smallest_subnormal)\n",
      "/home/jguven/Software/miniconda3/envs/bss-d/lib/python3.9/site-packages/numpy/core/getlimits.py:499: UserWarning: The value of the smallest subnormal for <class 'numpy.float32'> type is zero.\n",
      "  setattr(self, word, getattr(machar, word).flat[0])\n",
      "/home/jguven/Software/miniconda3/envs/bss-d/lib/python3.9/site-packages/numpy/core/getlimits.py:89: UserWarning: The value of the smallest subnormal for <class 'numpy.float32'> type is zero.\n",
      "  return self._float_to_str(self.smallest_subnormal)\n",
      "Warning: importing 'simtk.openmm' is deprecated.  Import 'openmm' instead.\n"
     ]
    },
    {
     "name": "stdout",
     "output_type": "stream",
     "text": [
      "\n",
      "==============================================================\n",
      "Sending anonymous Sire usage statistics to http://siremol.org.\n",
      "For more information, see http://siremol.org/analytics\n",
      "To disable, set the environment variable 'SIRE_DONT_PHONEHOME' to 1\n",
      "To see the information sent, set the environment variable \n",
      "SIRE_VERBOSE_PHONEHOME equal to 1. To silence this message, set\n",
      "the environment variable SIRE_SILENT_PHONEHOME to 1.\n",
      "==============================================================\n",
      "\n"
     ]
    },
    {
     "name": "stderr",
     "output_type": "stream",
     "text": [
      "<>:20: DeprecationWarning: invalid escape sequence \\D\n",
      "<>:20: DeprecationWarning: invalid escape sequence \\D\n",
      "/tmp/ipykernel_482970/1951793914.py:20: DeprecationWarning: invalid escape sequence \\D\n",
      "  plt.ylabel(\"$\\Delta\\Delta$G$_{bind}$ / kcal$\\cdot$mol$^{-1}$\")\n"
     ]
    }
   ],
   "source": [
    "import BioSimSpace as bss"
   ]
  },
  {
   "cell_type": "code",
   "execution_count": 5,
   "id": "8b3d63c1-b90d-4120-ae60-831debf9a6f6",
   "metadata": {},
   "outputs": [],
   "source": [
    "from Sire.Base import getShareDir as _getShareDir\n",
    "import os as _os\n",
    "import subprocess as _subprocess\n",
    "import shlex as _shlex\n",
    "_analyse_freenrg = _os.path.join(_os.path.normpath(_getShareDir()), \"scripts\", \"analyse_freenrg.py\")"
   ]
  },
  {
   "cell_type": "code",
   "execution_count": 6,
   "id": "6275e303-a356-419c-b795-3c1368c153dd",
   "metadata": {},
   "outputs": [
    {
     "data": {
      "text/plain": [
       "'/home/jguven/Software/miniconda3/envs/bss-d/share/Sire/scripts/analyse_freenrg.py'"
      ]
     },
     "execution_count": 6,
     "metadata": {},
     "output_type": "execute_result"
    }
   ],
   "source": [
    "_analyse_freenrg"
   ]
  },
  {
   "cell_type": "code",
   "execution_count": 18,
   "id": "dfff7920-9a29-4a54-8e05-8ae6f588a6d7",
   "metadata": {},
   "outputs": [
    {
     "data": {
      "text/plain": [
       "'execution_model/outputs/SOMD/lig_h_1~lig_h_16/bound'"
      ]
     },
     "execution_count": 18,
     "metadata": {},
     "output_type": "execute_result"
    }
   ],
   "source": [
    "path = f\"execution_model/outputs/SOMD/lig_h_1~lig_h_16/\"\n",
    "work_dir = path+\"bound\"\n",
    "work_dir"
   ]
  },
  {
   "cell_type": "code",
   "execution_count": 39,
   "id": "8148832f-d98c-4ca3-a40d-62481536ad5a",
   "metadata": {},
   "outputs": [],
   "source": [
    "#!chmod 755 /home/jguven/Software/miniconda3/envs/bss-d/share/Sire/scripts/analyse_freenrg.py"
   ]
  },
  {
   "cell_type": "code",
   "execution_count": 19,
   "id": "3c65392e-3375-450f-bc6d-8880157ec46c",
   "metadata": {},
   "outputs": [],
   "source": [
    "command = f\"python {_analyse_freenrg} mbar -i {work_dir}/lambda_*/simfile.dat -o {work_dir}/mbar.txt --overlap\" \n",
    "\n",
    "# Run the first command.\n",
    "#proc = _subprocess.run(_shlex.split(command), shell=False, stdout=_subprocess.PIPE, stderr=_subprocess.PIPE)"
   ]
  },
  {
   "cell_type": "code",
   "execution_count": 20,
   "id": "9b7d18c1-33fe-46d9-b9b3-371733dd7d3c",
   "metadata": {},
   "outputs": [
    {
     "data": {
      "text/plain": [
       "'python /home/jguven/Software/miniconda3/envs/bss-d/share/Sire/scripts/analyse_freenrg.py mbar -i execution_model/outputs/SOMD/lig_h_1~lig_h_16/bound/lambda_*/simfile.dat -o execution_model/outputs/SOMD/lig_h_1~lig_h_16/bound/mbar.txt --overlap'"
      ]
     },
     "execution_count": 20,
     "metadata": {},
     "output_type": "execute_result"
    }
   ],
   "source": [
    "command"
   ]
  },
  {
   "cell_type": "code",
   "execution_count": 4,
   "id": "471383d5-217e-46b7-9ced-782dba0bfe7d",
   "metadata": {},
   "outputs": [
    {
     "data": {
      "text/plain": [
       "[(0.0, 0.0000e+00 kcal/mol, 0.0000e+00 kcal/mol),\n",
       " (0.1, 1.7967 kcal/mol, 0.0567 kcal/mol),\n",
       " (0.2, 5.3587 kcal/mol, 0.0758 kcal/mol),\n",
       " (0.3, 9.8344 kcal/mol, 0.0884 kcal/mol),\n",
       " (0.4, 14.7977 kcal/mol, 0.0980 kcal/mol),\n",
       " (0.5, 20.0685 kcal/mol, 0.1064 kcal/mol),\n",
       " (0.6, 25.4495 kcal/mol, 0.1145 kcal/mol),\n",
       " (0.7, 31.1274 kcal/mol, 0.1222 kcal/mol),\n",
       " (0.8, 37.0322 kcal/mol, 0.1297 kcal/mol),\n",
       " (0.9, 43.3191 kcal/mol, 0.1368 kcal/mol),\n",
       " (1.0, 49.9644 kcal/mol, 0.1439 kcal/mol)]"
      ]
     },
     "execution_count": 4,
     "metadata": {},
     "output_type": "execute_result"
    }
   ],
   "source": [
    "path = f\"execution_model/outputs/SOMD/lig_h_1~lig_h_15/\"\n",
    "free_dir = path+\"free/\"\n",
    "pmf_free, om_f = bss.FreeEnergy.Relative.analyse(free_dir)\n",
    "pmf_free"
   ]
  },
  {
   "cell_type": "code",
   "execution_count": 5,
   "id": "0ed79313-1836-43fc-87f4-1e097ae4df13",
   "metadata": {},
   "outputs": [
    {
     "name": "stdout",
     "output_type": "stream",
     "text": [
      "execution_model/outputs/SOMD/lig_h_1~lig_h_15/bound/\n"
     ]
    },
    {
     "data": {
      "text/plain": [
       "[(0.0, 0.0000e+00 kcal/mol, 0.0000e+00 kcal/mol),\n",
       " (0.1, 2.0863 kcal/mol, 0.0808 kcal/mol),\n",
       " (0.2, 5.8327 kcal/mol, 0.1056 kcal/mol),\n",
       " (0.3, 10.5631 kcal/mol, 0.1217 kcal/mol),\n",
       " (0.4, 15.6064 kcal/mol, 0.1351 kcal/mol),\n",
       " (0.5, 20.9708 kcal/mol, 0.1458 kcal/mol),\n",
       " (0.6, 26.5903 kcal/mol, 0.1565 kcal/mol),\n",
       " (0.7, 32.3818 kcal/mol, 0.1668 kcal/mol),\n",
       " (0.8, 38.4137 kcal/mol, 0.1765 kcal/mol),\n",
       " (0.9, 44.7704 kcal/mol, 0.1858 kcal/mol),\n",
       " (1.0, 51.6139 kcal/mol, 0.1951 kcal/mol)]"
      ]
     },
     "execution_count": 5,
     "metadata": {},
     "output_type": "execute_result"
    }
   ],
   "source": [
    "path = f\"execution_model/outputs/SOMD/lig_h_1~lig_h_15/\"\n",
    "bound_dir = path+\"bound/\"\n",
    "print(bound_dir)\n",
    "pmf_bound, om_b = bss.FreeEnergy.Relative.analyse(bound_dir)\n",
    "pmf_bound"
   ]
  },
  {
   "cell_type": "code",
   "execution_count": 6,
   "id": "515ef42e-7c15-483f-b56d-118a1b3a7bbd",
   "metadata": {},
   "outputs": [],
   "source": [
    "freenrg = bss.FreeEnergy.Relative.difference(pmf_bound, pmf_free)\n",
    "freenrg_val = round(freenrg[0].value(), 4)\n",
    "freenrg_err = round(freenrg[1].value(), 4)"
   ]
  },
  {
   "cell_type": "code",
   "execution_count": 7,
   "id": "b7829acd-08d4-4064-be16-f2215e3b7174",
   "metadata": {},
   "outputs": [
    {
     "data": {
      "image/png": "[encoded data removed]",
      "text/plain": [
       "<Figure size 720x360 with 1 Axes>"
      ]
     },
     "metadata": {
      "needs_background": "light"
     },
     "output_type": "display_data"
    }
   ],
   "source": [
    "import matplotlib.pyplot as plt\n",
    "import numpy as np\n",
    "# initiate an empty figure with fixed dimensions.\n",
    "fig, ax = plt.subplots(figsize=(10,5))\n",
    "\n",
    "# determine positions for X axis labels.\n",
    "x_locs = np.arange(len(freenrg))\n",
    "\n",
    "# set bar width\n",
    "width = 0.35  \n",
    "\n",
    "# plot both our experimental and FEP free energies using an offset on the x position so bars don't overlap.\n",
    "ax.bar(x_locs - width/2, height=freenrg_val, width=width, yerr=freenrg_err,\n",
    "                label='fep')\n",
    "# ax.bar(x_locs + width/2, height=freenrg_df[\"freenrg_fep\"], width=width, yerr=freenrg_df[\"err_fep\"],\n",
    "#                 label='FEP')\n",
    " \n",
    "# format the plot further.\n",
    "plt.axhline(color=\"black\")\n",
    "plt.ylabel(\"$\\Delta\\Delta$G$_{bind}$ / kcal$\\cdot$mol$^{-1}$\")\n",
    "#plt.xticks(x_locs, freenrg_df.index, rotation=70, ha=\"right\")\n",
    "plt.legend()\n",
    "\n",
    "#plt.savefig(\"outputs/fep_vs_exp_barplot.png\", dpi=300)\n",
    "plt.show()"
   ]
  },
  {
   "cell_type": "code",
   "execution_count": 86,
   "id": "007874ef-1b1a-46e6-a5f0-36675845c6ae",
   "metadata": {},
   "outputs": [],
   "source": [
    "def get_ti_pmf(full_path: str):\n",
    "    \"\"\"\n",
    "    @param full_path: to mbar.txt file\n",
    "    @return TI pmf values as a list of tuples\n",
    "    \"\"\"\n",
    "    with open(full_path) as file:\n",
    "        lines = file.readlines()\n",
    "    \n",
    "    first_index = 0\n",
    "    last_index = 0\n",
    "    for i in range(len(lines)):\n",
    "        if \"#PMF from TI in kcal/mol\" in lines[i]:\n",
    "            first_index = i + 1\n",
    "        elif \"#MBAR free energy difference in kcal/mol: \" in lines[i]:\n",
    "            last_index = i \n",
    "    messy = lines[first_index:last_index]\n",
    "    ti_pmf = []\n",
    "    for line in messy:\n",
    "        new_line = line.split()\n",
    "        lambda_value = float(new_line[0])\n",
    "        energy_value = bss.Types.Energy(float(new_line[1]), \"kcal/mol\")\n",
    "        error = bss.Types.Energy(0, \"kcal/mol\")\n",
    "        tuple_line = (lambda_value, energy_value, error)\n",
    "        ti_pmf.append(tuple_line)\n",
    "    return ti_pmf\n"
   ]
  },
  {
   "cell_type": "code",
   "execution_count": 87,
   "id": "1c5cd128-5a99-411f-bd64-0cf11602c265",
   "metadata": {},
   "outputs": [],
   "source": [
    "free_path = \"execution_model/outputs/SOMD/lig_h_1~lig_h_10/free/mbar.txt\"\n",
    "bound_path = \"execution_model/outputs/SOMD/lig_h_1~lig_h_10/bound/mbar.txt\""
   ]
  },
  {
   "cell_type": "code",
   "execution_count": 88,
   "id": "4a8ea9a8-a22d-485b-ad0a-f46795943147",
   "metadata": {},
   "outputs": [],
   "source": [
    "free_pmf = get_ti_pmf(free_path)\n",
    "bound_pmf = get_ti_pmf(bound_path)"
   ]
  },
  {
   "cell_type": "code",
   "execution_count": 89,
   "id": "a109a096-70b9-47b2-936f-6b0d2ae9c65e",
   "metadata": {},
   "outputs": [],
   "source": [
    "free_energy = bss.FreeEnergy.Relative.difference(bound_pmf, free_pmf)"
   ]
  },
  {
   "cell_type": "code",
   "execution_count": 93,
   "id": "6632d01c-35a9-4252-a263-88e079664b1e",
   "metadata": {},
   "outputs": [],
   "source": [
    "free_energy_value = free_energy[0]\n",
    "free_energy_error = round(free_energy[1].value(), 4)"
   ]
  },
  {
   "cell_type": "code",
   "execution_count": 94,
   "id": "13fac2e1-8622-48c6-aa4c-fdc176f75e4d",
   "metadata": {},
   "outputs": [
    {
     "data": {
      "text/plain": [
       "0.0000e+00 kcal/mol"
      ]
     },
     "execution_count": 94,
     "metadata": {},
     "output_type": "execute_result"
    }
   ],
   "source": [
    "free_energy_value"
   ]
  },
  {
   "cell_type": "markdown",
   "id": "753ee7d9-3581-4bac-9b97-0abc232b8b37",
   "metadata": {},
   "source": [
    "# Test by removing one lambda window"
   ]
  },
  {
   "cell_type": "code",
   "execution_count": 21,
   "id": "6c8a4a51-93c0-4b7c-b804-912e271dba91",
   "metadata": {},
   "outputs": [],
   "source": [
    "bound_path = \"execution_model/scripts/lig_h_1~lig_h_16/bound/\"\n",
    "free_path = \"execution_model/scripts/lig_h_1~lig_h_16/free/\""
   ]
  },
  {
   "cell_type": "code",
   "execution_count": 22,
   "id": "e946fc7c-8826-4715-a193-f79fe4e5c9a9",
   "metadata": {},
   "outputs": [
    {
     "ename": "AnalysisError",
     "evalue": "SOMD free-energy analysis failed!",
     "output_type": "error",
     "traceback": [
      "\u001b[0;31m---------------------------------------------------------------------------\u001b[0m",
      "\u001b[0;31mAnalysisError\u001b[0m                             Traceback (most recent call last)",
      "Input \u001b[0;32mIn [22]\u001b[0m, in \u001b[0;36m<cell line: 1>\u001b[0;34m()\u001b[0m\n\u001b[0;32m----> 1\u001b[0m pmf_bound, om_b \u001b[38;5;241m=\u001b[39m \u001b[43mbss\u001b[49m\u001b[38;5;241;43m.\u001b[39;49m\u001b[43mFreeEnergy\u001b[49m\u001b[38;5;241;43m.\u001b[39;49m\u001b[43mRelative\u001b[49m\u001b[38;5;241;43m.\u001b[39;49m\u001b[43manalyse\u001b[49m\u001b[43m(\u001b[49m\u001b[43mbound_path\u001b[49m\u001b[43m)\u001b[49m\n",
      "File \u001b[0;32m~/Software/miniconda3/envs/bss-d/lib/python3.9/site-packages/BioSimSpace/FreeEnergy/_relative.py:389\u001b[0m, in \u001b[0;36mRelative.analyse\u001b[0;34m(work_dir)\u001b[0m\n\u001b[1;32m    387\u001b[0m \u001b[38;5;66;03m# SOMD.\u001b[39;00m\n\u001b[1;32m    388\u001b[0m \u001b[38;5;28;01mif\u001b[39;00m \u001b[38;5;28mlen\u001b[39m(data) \u001b[38;5;241m>\u001b[39m \u001b[38;5;241m0\u001b[39m:\n\u001b[0;32m--> 389\u001b[0m     \u001b[38;5;28;01mreturn\u001b[39;00m \u001b[43mRelative\u001b[49m\u001b[38;5;241;43m.\u001b[39;49m\u001b[43m_analyse_somd\u001b[49m\u001b[43m(\u001b[49m\u001b[43mwork_dir\u001b[49m\u001b[43m)\u001b[49m\n\u001b[1;32m    391\u001b[0m \u001b[38;5;66;03m# Now check for GROMACS output.\u001b[39;00m\n\u001b[1;32m    392\u001b[0m \u001b[38;5;28;01melse\u001b[39;00m:\n\u001b[1;32m    393\u001b[0m     data \u001b[38;5;241m=\u001b[39m _glob(work_dir \u001b[38;5;241m+\u001b[39m \u001b[38;5;124m\"\u001b[39m\u001b[38;5;124m/lambda_*/gromacs.xvg\u001b[39m\u001b[38;5;124m\"\u001b[39m)\n",
      "File \u001b[0;32m~/Software/miniconda3/envs/bss-d/lib/python3.9/site-packages/BioSimSpace/FreeEnergy/_relative.py:535\u001b[0m, in \u001b[0;36mRelative._analyse_somd\u001b[0;34m(work_dir)\u001b[0m\n\u001b[1;32m    532\u001b[0m proc \u001b[38;5;241m=\u001b[39m _subprocess\u001b[38;5;241m.\u001b[39mrun(_shlex\u001b[38;5;241m.\u001b[39msplit(command), shell\u001b[38;5;241m=\u001b[39m\u001b[38;5;28;01mFalse\u001b[39;00m,\n\u001b[1;32m    533\u001b[0m     stdout\u001b[38;5;241m=\u001b[39m_subprocess\u001b[38;5;241m.\u001b[39mPIPE, stderr\u001b[38;5;241m=\u001b[39m_subprocess\u001b[38;5;241m.\u001b[39mPIPE)\n\u001b[1;32m    534\u001b[0m \u001b[38;5;28;01mif\u001b[39;00m proc\u001b[38;5;241m.\u001b[39mreturncode \u001b[38;5;241m!=\u001b[39m \u001b[38;5;241m0\u001b[39m:\n\u001b[0;32m--> 535\u001b[0m     \u001b[38;5;28;01mraise\u001b[39;00m _AnalysisError(\u001b[38;5;124m\"\u001b[39m\u001b[38;5;124mSOMD free-energy analysis failed!\u001b[39m\u001b[38;5;124m\"\u001b[39m)\n\u001b[1;32m    537\u001b[0m \u001b[38;5;66;03m# Re-run without subsampling if the subsampling has resulted in less than 50 samples.\u001b[39;00m\n\u001b[1;32m    538\u001b[0m \u001b[38;5;28;01mwith\u001b[39;00m \u001b[38;5;28mopen\u001b[39m(\u001b[38;5;124m\"\u001b[39m\u001b[38;5;132;01m%s\u001b[39;00m\u001b[38;5;124m/mbar.txt\u001b[39m\u001b[38;5;124m\"\u001b[39m \u001b[38;5;241m%\u001b[39m work_dir) \u001b[38;5;28;01mas\u001b[39;00m file:\n",
      "\u001b[0;31mAnalysisError\u001b[0m: SOMD free-energy analysis failed!"
     ]
    }
   ],
   "source": [
    "pmf_bound, om_b = bss.FreeEnergy.Relative.analyse(bound_path)"
   ]
  },
  {
   "cell_type": "code",
   "execution_count": 26,
   "id": "c084ec70-c393-472f-b6a5-7a0c653a592b",
   "metadata": {},
   "outputs": [],
   "source": [
    "import numpy as np\n",
    "lam_arr = np.array([0.0,0.1,0.2,0.3,0.4,0.5,0.6,0.7,0.8,0.9])"
   ]
  },
  {
   "cell_type": "code",
   "execution_count": 29,
   "id": "4f36d33e-3021-42e5-92cc-8f73dce34ff4",
   "metadata": {},
   "outputs": [],
   "source": [
    "command = f\"python {_analyse_freenrg} mbar --lam 0.0,0.1,0.2,0.3,0.4,0.5,0.6,0.7,0.8,0.9 -i {bound_path}/lambda_*/simfile.dat -o {bound_path}/mbar.txt --overlap\" "
   ]
  },
  {
   "cell_type": "code",
   "execution_count": 30,
   "id": "d5be0ee6-b960-4933-a21e-68be031ea0de",
   "metadata": {},
   "outputs": [
    {
     "data": {
      "text/plain": [
       "'python /home/jguven/Software/miniconda3/envs/bss-d/share/Sire/scripts/analyse_freenrg.py mbar --lam 0.0,0.1,0.2,0.3,0.4,0.5,0.6,0.7,0.8,0.9 -i execution_model/scripts/lig_h_1~lig_h_16/bound//lambda_*/simfile.dat -o execution_model/scripts/lig_h_1~lig_h_16/bound//mbar.txt --overlap'"
      ]
     },
     "execution_count": 30,
     "metadata": {},
     "output_type": "execute_result"
    }
   ],
   "source": [
    "command\n"
   ]
  },
  {
   "cell_type": "code",
   "execution_count": null,
   "id": "68f8288f-4a9c-4500-82b6-5c33534997c2",
   "metadata": {},
   "outputs": [],
   "source": [
    "somd-freenrg -C ./somd.cfg -l 1.0000 -d 1 -c ./somd.rst7 -t ./somd.prm7 -m ./somd.pert -p OpenCL 1> somd.log 2> somd.err"
   ]
  }
 ],
 "metadata": {
  "kernelspec": {
   "display_name": "Python 3 (ipykernel)",
   "language": "python",
   "name": "python3"
  },
  "language_info": {
   "codemirror_mode": {
    "name": "ipython",
    "version": 3
   },
   "file_extension": ".py",
   "mimetype": "text/x-python",
   "name": "python",
   "nbconvert_exporter": "python",
   "pygments_lexer": "ipython3",
   "version": "3.9.13"
  }
 },
 "nbformat": 4,
 "nbformat_minor": 5
}
