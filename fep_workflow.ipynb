{
 "cells": [
  {
   "cell_type": "code",
   "execution_count": 2,
   "id": "2c4138ad-4b0a-4cdd-87ea-35debc871ac2",
   "metadata": {},
   "outputs": [
    {
     "name": "stderr",
     "output_type": "stream",
     "text": [
      "<frozen importlib._bootstrap>:228: RuntimeWarning: to-Python converter for std::vector<double, std::allocator<double> > already registered; second conversion method ignored.\n"
     ]
    },
    {
     "name": "stdout",
     "output_type": "stream",
     "text": [
      "\n",
      "==============================================================\n",
      "Sending anonymous Sire usage statistics to http://siremol.org.\n",
      "For more information, see http://siremol.org/analytics\n",
      "To disable, set the environment variable 'SIRE_DONT_PHONEHOME' to 1\n",
      "To see the information sent, set the environment variable \n",
      "SIRE_VERBOSE_PHONEHOME equal to 1. To silence this message, set\n",
      "the environment variable SIRE_SILENT_PHONEHOME to 1.\n",
      "==============================================================\n",
      "\n"
     ]
    },
    {
     "name": "stderr",
     "output_type": "stream",
     "text": [
      "Warning: importing 'simtk.openmm' is deprecated.  Import 'openmm' instead.\n",
      "/home/jguven/Software/miniconda3/envs/bss-d/lib/python3.9/site-packages/BioSimSpace/Parameters/_process.py:134: UserWarning: Attempting to parameterise a molecule without hydrogen atoms!\n",
      "  _warnings.warn(\"Attempting to parameterise a molecule without hydrogen atoms!\")\n"
     ]
    }
   ],
   "source": [
    "import MDAnalysis as mda\n",
    "import BioSimSpace as BSS\n",
    "import numpy as np"
   ]
  },
  {
   "cell_type": "markdown",
   "id": "115813dc-9743-47e4-843d-7a2468f0ec1d",
   "metadata": {},
   "source": [
    "# FEP workflow\n",
    "\n",
    "## 1. Extract pdb file(s?) from RCSB PDB\n",
    "## 2. Remove everything except protein and also add missing atoms \n",
    "## 3. From protein pdb extract ligand (with `MDAnalysis`)\n",
    "## 4. Add hydrogen atoms with `openbabel`\n",
    "## 5. Save ligand file\n",
    "## 6. Run `antechamber` to create `.mol2` file \n",
    "## 7. Go to `fep_setup.ipynb`"
   ]
  },
  {
   "cell_type": "markdown",
   "id": "03b8d04d-7ad7-4ff7-9150-2c6a9bc7e5fa",
   "metadata": {
    "tags": []
   },
   "source": [
    "# 1. Extract pdb files\n",
    "\n",
    "- need to write a shell script for extracting these / use RCSB PDB \n",
    "\n",
    "```\n",
    "gzip ftp://ftp.wwpdb.org/pub/pdb/data/structures/all/pdb/pdbXXXX.ent.gz\n",
    "```"
   ]
  },
  {
   "cell_type": "markdown",
   "id": "36b1851b-bcdb-4df1-b28d-22459808a664",
   "metadata": {},
   "source": [
    "# 2 Remove everything except protein and also add missing atoms\n",
    "- this should also be in a shell script\n",
    "\n",
    "```\n",
    "pdb4amber <protein>.pdb > <protein>.amber.pdb -y -p --add-missing-atoms\n",
    "```"
   ]
  },
  {
   "cell_type": "markdown",
   "id": "070e72b4-c084-4f80-b45f-19195826f93a",
   "metadata": {},
   "source": [
    "# 3 From protein pdb extract ligand (with `MDAnalysis`)\n",
    "- create copy of pdb file that can then be used to extract ligand with `MDAnalysis`"
   ]
  },
  {
   "cell_type": "code",
   "execution_count": 18,
   "id": "f05a5782-242b-4024-b16e-fa510a790827",
   "metadata": {},
   "outputs": [
    {
     "data": {
      "text/plain": [
       "<Universe with 2413 atoms>"
      ]
     },
     "execution_count": 18,
     "metadata": {},
     "output_type": "execute_result"
    }
   ],
   "source": [
    "universe = mda.Universe(\"pdb6d18.ent\", format=\"PDB\")\n",
    "universe"
   ]
  },
  {
   "cell_type": "code",
   "execution_count": 29,
   "id": "befa8d61-bb1e-4585-a977-66e024e5a8cd",
   "metadata": {},
   "outputs": [],
   "source": [
    "# segments = universe.segments\n",
    "# print(segments)\n",
    "# atoms = universe.select_atoms(\"protein\")\n",
    "# alt_locations = atoms.altLocs\n",
    "# for alt in alt_locations:\n",
    "#     if alt != \"\":\n",
    "#         print(alt)"
   ]
  },
  {
   "cell_type": "code",
   "execution_count": 40,
   "id": "8bfc8f04-08cd-4fe6-9bc9-7024cd44474f",
   "metadata": {},
   "outputs": [],
   "source": [
    "ligand_residues = universe.select_atoms(\"resname GTV\")\n",
    "unique_residue_ids = list(set(ligand_residues.resids))\n",
    "unique_residue_ids\n",
    "ligand = ligand_residues.select_atoms(f\"resid {unique_residue_ids[0]}\")"
   ]
  },
  {
   "cell_type": "code",
   "execution_count": 41,
   "id": "853163b1-d83d-46b8-889e-e33d1272f419",
   "metadata": {},
   "outputs": [
    {
     "name": "stdout",
     "output_type": "stream",
     "text": [
      "<Atom 2072: C01 of type C of resname GTV, resid 301 and segid A and altLoc >\n",
      "<Atom 2073: C02 of type C of resname GTV, resid 301 and segid A and altLoc >\n",
      "<Atom 2074: C03 of type C of resname GTV, resid 301 and segid A and altLoc >\n",
      "<Atom 2075: C04 of type C of resname GTV, resid 301 and segid A and altLoc >\n",
      "<Atom 2076: C05 of type C of resname GTV, resid 301 and segid A and altLoc >\n",
      "<Atom 2077: C06 of type C of resname GTV, resid 301 and segid A and altLoc >\n",
      "<Atom 2078: C07 of type C of resname GTV, resid 301 and segid A and altLoc >\n",
      "<Atom 2079: C08 of type C of resname GTV, resid 301 and segid A and altLoc >\n",
      "<Atom 2080: C13 of type C of resname GTV, resid 301 and segid A and altLoc >\n",
      "<Atom 2081: C14 of type C of resname GTV, resid 301 and segid A and altLoc >\n",
      "<Atom 2082: C17 of type C of resname GTV, resid 301 and segid A and altLoc >\n",
      "<Atom 2083: C18 of type C of resname GTV, resid 301 and segid A and altLoc >\n",
      "<Atom 2084: O10 of type O of resname GTV, resid 301 and segid A and altLoc >\n",
      "<Atom 2085: O11 of type O of resname GTV, resid 301 and segid A and altLoc >\n",
      "<Atom 2086: O12 of type O of resname GTV, resid 301 and segid A and altLoc >\n",
      "<Atom 2087: O15 of type O of resname GTV, resid 301 and segid A and altLoc >\n",
      "<Atom 2088: O16 of type O of resname GTV, resid 301 and segid A and altLoc >\n",
      "<Atom 2089: P09 of type P of resname GTV, resid 301 and segid A and altLoc >\n"
     ]
    }
   ],
   "source": [
    "for line in ligand:\n",
    "    print(line)"
   ]
  },
  {
   "cell_type": "markdown",
   "id": "3af0e6f1-f586-4a7e-a822-88738651b79e",
   "metadata": {},
   "source": [
    "# 4. Save ligand file \n"
   ]
  },
  {
   "cell_type": "code",
   "execution_count": 45,
   "id": "17f9d71a-ab0f-4768-a1ac-6e95f60c5bc7",
   "metadata": {},
   "outputs": [],
   "source": [
    "ligand_name = ligand.resnames[0].lower()\n",
    "ligand.write(f\"{ligand_name}.pdb\")"
   ]
  },
  {
   "cell_type": "markdown",
   "id": "2bfc7135-a853-4e72-b9d2-286b68fbca70",
   "metadata": {},
   "source": [
    "# 5. Add hydrogen atoms with `openbabel`\n",
    "\n",
    "`obabel -i pdb gtv.pdb -o pdb -O gtv_h.pdb -h`"
   ]
  },
  {
   "cell_type": "code",
   "execution_count": null,
   "id": "fe9bb058-3776-4e16-ac97-1849cb5b2e75",
   "metadata": {},
   "outputs": [],
   "source": []
  },
  {
   "cell_type": "code",
   "execution_count": null,
   "id": "488dafbd-1f68-4361-91cf-5bbbb523abe8",
   "metadata": {},
   "outputs": [],
   "source": []
  },
  {
   "cell_type": "code",
   "execution_count": null,
   "id": "605d577a-79c8-4058-8ce3-34bdb9cafa4f",
   "metadata": {},
   "outputs": [],
   "source": []
  },
  {
   "cell_type": "code",
   "execution_count": null,
   "id": "a25655b1-de2a-4372-accb-27b68b34ecde",
   "metadata": {},
   "outputs": [],
   "source": []
  },
  {
   "cell_type": "code",
   "execution_count": null,
   "id": "0888114e-24b7-4eb4-9a86-cbc2cfb277de",
   "metadata": {},
   "outputs": [],
   "source": []
  },
  {
   "cell_type": "code",
   "execution_count": null,
   "id": "ca97276d-3fce-4a27-a60e-313c55763a82",
   "metadata": {},
   "outputs": [],
   "source": []
  },
  {
   "cell_type": "code",
   "execution_count": 6,
   "id": "be1e7950-1a46-4d8c-83e1-7f19eb342b0e",
   "metadata": {},
   "outputs": [],
   "source": [
    "protein = BSS.IO.readMolecules(\"6d18_clean.pdb\")[0]"
   ]
  },
  {
   "cell_type": "code",
   "execution_count": 7,
   "id": "5c50ba72-68d1-4cdc-86d1-291d558e39a5",
   "metadata": {},
   "outputs": [],
   "source": [
    "protein = BSS.Parameters.parameterise(protein, forcefield=\"ff14SB\").getMolecule()"
   ]
  },
  {
   "cell_type": "code",
   "execution_count": null,
   "id": "87e17ab1-3558-49ae-91d4-378ba4a01403",
   "metadata": {},
   "outputs": [],
   "source": []
  }
 ],
 "metadata": {
  "kernelspec": {
   "display_name": "Python 3 (ipykernel)",
   "language": "python",
   "name": "python3"
  },
  "language_info": {
   "codemirror_mode": {
    "name": "ipython",
    "version": 3
   },
   "file_extension": ".py",
   "mimetype": "text/x-python",
   "name": "python",
   "nbconvert_exporter": "python",
   "pygments_lexer": "ipython3",
   "version": "3.9.12"
  }
 },
 "nbformat": 4,
 "nbformat_minor": 5
}
