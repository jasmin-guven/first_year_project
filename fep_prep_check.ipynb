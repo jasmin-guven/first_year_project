{
 "cells": [
  {
   "cell_type": "markdown",
   "id": "694477a7-5fdf-4174-a28e-edcd14ea315f",
   "metadata": {},
   "source": [
    "# FEP Prepping Checks for KPC-2"
   ]
  },
  {
   "cell_type": "code",
   "execution_count": 2,
   "id": "a22ead6f-2612-4196-bb36-d8bb58e2c5db",
   "metadata": {},
   "outputs": [
    {
     "name": "stderr",
     "output_type": "stream",
     "text": [
      "/home/jguven/Software/miniconda3/envs/bss-d/lib/python3.9/site-packages/numpy/core/getlimits.py:499: UserWarning: The value of the smallest subnormal for <class 'numpy.float64'> type is zero.\n",
      "  setattr(self, word, getattr(machar, word).flat[0])\n",
      "/home/jguven/Software/miniconda3/envs/bss-d/lib/python3.9/site-packages/numpy/core/getlimits.py:89: UserWarning: The value of the smallest subnormal for <class 'numpy.float64'> type is zero.\n",
      "  return self._float_to_str(self.smallest_subnormal)\n",
      "/home/jguven/Software/miniconda3/envs/bss-d/lib/python3.9/site-packages/numpy/core/getlimits.py:499: UserWarning: The value of the smallest subnormal for <class 'numpy.float32'> type is zero.\n",
      "  setattr(self, word, getattr(machar, word).flat[0])\n",
      "/home/jguven/Software/miniconda3/envs/bss-d/lib/python3.9/site-packages/numpy/core/getlimits.py:89: UserWarning: The value of the smallest subnormal for <class 'numpy.float32'> type is zero.\n",
      "  return self._float_to_str(self.smallest_subnormal)\n",
      "Warning: importing 'simtk.openmm' is deprecated.  Import 'openmm' instead.\n",
      "/home/jguven/Software/miniconda3/envs/bss-d/lib/python3.9/site-packages/BioSimSpace/Parameters/_process.py:134: UserWarning: Attempting to parameterise a molecule without hydrogen atoms!\n",
      "  _warnings.warn(\"Attempting to parameterise a molecule without hydrogen atoms!\")\n"
     ]
    }
   ],
   "source": [
    "import BioSimSpace as BSS"
   ]
  },
  {
   "cell_type": "code",
   "execution_count": 5,
   "id": "eb8d7876-571c-4162-b115-5b4066cb9501",
   "metadata": {},
   "outputs": [],
   "source": [
    "ligand_path = \"kpc2/ligands/\"\n",
    "protein_path = \"kpc2/protein/\""
   ]
  },
  {
   "cell_type": "markdown",
   "id": "884a63b6-3d75-4c40-9230-dea95a91865f",
   "metadata": {},
   "source": [
    "# Load in protein without water"
   ]
  },
  {
   "cell_type": "code",
   "execution_count": 19,
   "id": "4e3cb8e2-af3f-4eda-85a0-c609bcca6537",
   "metadata": {},
   "outputs": [],
   "source": [
    "protein_no_water = BSS.IO.readMolecules(protein_path+\"kpc2.amber.pdb\")[0]"
   ]
  },
  {
   "cell_type": "code",
   "execution_count": 20,
   "id": "93bff5bc-d184-4835-965a-d11063ce85ef",
   "metadata": {},
   "outputs": [],
   "source": [
    "protein_no_water = BSS.Parameters.ff14SB(protein_no_water).getMolecule()"
   ]
  },
  {
   "cell_type": "markdown",
   "id": "5b9a57e5-f988-46ae-8bf2-54fd8e152021",
   "metadata": {},
   "source": [
    "# Load water without protein"
   ]
  },
  {
   "cell_type": "code",
   "execution_count": 30,
   "id": "4f307942-1c40-48c4-912b-b576ed7650de",
   "metadata": {},
   "outputs": [],
   "source": [
    "crystal_water = BSS.IO.readMolecules(protein_path+\"hoh.pdb\")[0]"
   ]
  },
  {
   "cell_type": "markdown",
   "id": "7a7cb74d-3a9d-4add-97ee-c6ff42059109",
   "metadata": {},
   "source": [
    "# Create a `protein` with both the protein and the crystal waters"
   ]
  },
  {
   "cell_type": "code",
   "execution_count": 25,
   "id": "1738b9ff-7579-40ed-aecc-3ea022f9421d",
   "metadata": {},
   "outputs": [],
   "source": [
    "protein = crystal_water + protein_no_water"
   ]
  },
  {
   "cell_type": "code",
   "execution_count": 10,
   "id": "ae64e7f4-87cf-4f1b-af09-26df6a221f71",
   "metadata": {},
   "outputs": [],
   "source": [
    "ligand_1 = BSS.IO.readMolecules(ligand_path+\"ligand_1/\"+\"lig_h_1.mol2\")[0]"
   ]
  },
  {
   "cell_type": "code",
   "execution_count": 11,
   "id": "2dabe3c5-55d8-4394-b382-04a12b404724",
   "metadata": {},
   "outputs": [],
   "source": [
    "ligand_1 = BSS.Parameters.gaff2(ligand_1).getMolecule()"
   ]
  },
  {
   "cell_type": "code",
   "execution_count": 12,
   "id": "a10648cb-acc9-4aaf-8e39-7e0561105edb",
   "metadata": {},
   "outputs": [],
   "source": [
    "ligand_2 = BSS.IO.readMolecules(ligand_path+\"ligand_2/\"+\"lig_h_2.mol2\")[0]"
   ]
  },
  {
   "cell_type": "code",
   "execution_count": 13,
   "id": "a7c049c0-b292-4b82-967e-f00253bae443",
   "metadata": {},
   "outputs": [],
   "source": [
    "ligand_2 = BSS.Parameters.gaff2(ligand_2).getMolecule()"
   ]
  },
  {
   "cell_type": "code",
   "execution_count": 14,
   "id": "6dd25241-d03b-484d-a889-1d27ec9c810d",
   "metadata": {},
   "outputs": [],
   "source": [
    "atom_mapping = BSS.Align.matchAtoms(ligand_1, ligand_2)"
   ]
  },
  {
   "cell_type": "code",
   "execution_count": 15,
   "id": "2fd2a80c-409f-49fd-b03c-c5012369c608",
   "metadata": {},
   "outputs": [],
   "source": [
    "ligand_1 = BSS.Align.rmsdAlign(ligand_1, ligand_2, atom_mapping)"
   ]
  },
  {
   "cell_type": "code",
   "execution_count": 16,
   "id": "760137cf-4ff1-4c6d-a64f-5f217fcfa7d5",
   "metadata": {},
   "outputs": [],
   "source": [
    "merged = BSS.Align.merge(ligand_1, ligand_2)"
   ]
  },
  {
   "cell_type": "code",
   "execution_count": 17,
   "id": "496339ae-843f-40b2-aedd-b78cc85ef676",
   "metadata": {},
   "outputs": [
    {
     "data": {
      "text/plain": [
       "<BioSimSpace.Molecule: nAtoms=33, nResidues=1>"
      ]
     },
     "execution_count": 17,
     "metadata": {},
     "output_type": "execute_result"
    }
   ],
   "source": [
    "merged"
   ]
  },
  {
   "cell_type": "code",
   "execution_count": 26,
   "id": "9b2434ae-650c-42ca-bfda-16a64b1ef386",
   "metadata": {},
   "outputs": [
    {
     "data": {
      "application/vnd.jupyter.widget-view+json": {
       "model_id": "461cb4f281df44bcaf742911eb2d7227",
       "version_major": 2,
       "version_minor": 0
      },
      "text/plain": [
       "NGLWidget(gui_style='ngl')"
      ]
     },
     "metadata": {},
     "output_type": "display_data"
    }
   ],
   "source": [
    "view = BSS.Notebook.View(protein)\n",
    "view.system()"
   ]
  },
  {
   "cell_type": "code",
   "execution_count": 15,
   "id": "a1a18687-3abf-4b4a-ae2d-03960559d645",
   "metadata": {},
   "outputs": [
    {
     "data": {
      "application/vnd.jupyter.widget-view+json": {
       "model_id": "fafed09499ab43ab80b79a243348125c",
       "version_major": 2,
       "version_minor": 0
      },
      "text/plain": [
       "NGLWidget(gui_style='ngl')"
      ]
     },
     "metadata": {},
     "output_type": "display_data"
    }
   ],
   "source": [
    "view = BSS.Notebook.View(ligand_2)\n",
    "view.system()"
   ]
  },
  {
   "cell_type": "markdown",
   "id": "43083cb2-b97e-4eb8-b8a7-a14a46988456",
   "metadata": {},
   "source": [
    "# Create a system with the ligands and the protein"
   ]
  },
  {
   "cell_type": "code",
   "execution_count": 31,
   "id": "41a419b8-c97d-4636-8934-e0ffdd12d8f8",
   "metadata": {},
   "outputs": [],
   "source": [
    "system = merged + protein"
   ]
  },
  {
   "cell_type": "code",
   "execution_count": 32,
   "id": "914cc18d-ef47-4eb6-99c5-eb0e5956badf",
   "metadata": {},
   "outputs": [],
   "source": [
    "solvated = BSS.Solvent.tip3p(molecule=merged, box=3*[10*BSS.Units.Length.nanometer])"
   ]
  },
  {
   "cell_type": "markdown",
   "id": "85ea3d43-d5e7-4301-aa87-12b2338e52b9",
   "metadata": {},
   "source": [
    "# Save a `test.pdb` file to check on Flare that everything works"
   ]
  },
  {
   "cell_type": "code",
   "execution_count": 29,
   "id": "533a71c8-2c02-47d8-bc9e-da32ff10fad0",
   "metadata": {},
   "outputs": [
    {
     "data": {
      "text/plain": [
       "['/home/jguven/Projects/metalloproteins/test.pdb']"
      ]
     },
     "execution_count": 29,
     "metadata": {},
     "output_type": "execute_result"
    }
   ],
   "source": [
    "BSS.IO.saveMolecules(\"test\", protein, \"pdb\")"
   ]
  },
  {
   "cell_type": "markdown",
   "id": "f02874bc-8def-4ad8-968e-9ac872ae0b85",
   "metadata": {},
   "source": [
    "# Set up FEP on all 16 ligands\n",
    "\n",
    "Now we can use the `execution_model/` files from the `BSS` tutorials to set up the FEP calculation on all 16 ligands."
   ]
  },
  {
   "cell_type": "code",
   "execution_count": null,
   "id": "476a590d-509f-4028-a7cb-bfe9f398986c",
   "metadata": {},
   "outputs": [],
   "source": []
  }
 ],
 "metadata": {
  "kernelspec": {
   "display_name": "Python 3 (ipykernel)",
   "language": "python",
   "name": "python3"
  },
  "language_info": {
   "codemirror_mode": {
    "name": "ipython",
    "version": 3
   },
   "file_extension": ".py",
   "mimetype": "text/x-python",
   "name": "python",
   "nbconvert_exporter": "python",
   "pygments_lexer": "ipython3",
   "version": "3.9.13"
  }
 },
 "nbformat": 4,
 "nbformat_minor": 5
}
